{
  "nbformat": 4,
  "nbformat_minor": 0,
  "metadata": {
    "colab": {
      "name": "Movie Recommendation.ipynb",
      "provenance": [],
      "collapsed_sections": [],
      "machine_shape": "hm",
      "authorship_tag": "ABX9TyMcNd9WwtKT5ECiYd6x4peN",
      "include_colab_link": true
    },
    "kernelspec": {
      "name": "python3",
      "display_name": "Python 3"
    },
    "accelerator": "TPU"
  },
  "cells": [
    {
      "cell_type": "markdown",
      "metadata": {
        "id": "view-in-github",
        "colab_type": "text"
      },
      "source": [
        "<a href=\"https://colab.research.google.com/github/dipta007/Movie-Recommendation/blob/multi-label-classification/Movie_Recommendation.ipynb\" target=\"_parent\"><img src=\"https://colab.research.google.com/assets/colab-badge.svg\" alt=\"Open In Colab\"/></a>"
      ]
    },
    {
      "cell_type": "code",
      "metadata": {
        "id": "9d4cawHq7Kmh",
        "colab_type": "code",
        "outputId": "8c36f769-eb25-45e8-81e2-5e7c05084f34",
        "colab": {
          "base_uri": "https://localhost:8080/",
          "height": 181
        }
      },
      "source": [
        "from google.colab import drive\n",
        "from os.path import join\n",
        "import os\n",
        "\n",
        "ROOT = '/content/drive'     # default for the drive\n",
        "PROJ = 'My Drive/Colab_data/MR1'       # path to your project on Drive\n",
        "drive.mount(ROOT)           # we mount the drive at /content/drive\n",
        "\n",
        "PROJECT_PATH = join(ROOT, PROJ)\n",
        "!mkdir \"{PROJECT_PATH}\"    # in case we haven't created it already   \n",
        "%cd \"{PROJECT_PATH}\"\n",
        "%ls"
      ],
      "execution_count": 1,
      "outputs": [
        {
          "output_type": "stream",
          "text": [
            "Go to this URL in a browser: https://accounts.google.com/o/oauth2/auth?client_id=947318989803-6bn6qk8qdgf4n4g3pfee6491hc0brc4i.apps.googleusercontent.com&redirect_uri=urn%3aietf%3awg%3aoauth%3a2.0%3aoob&response_type=code&scope=email%20https%3a%2f%2fwww.googleapis.com%2fauth%2fdocs.test%20https%3a%2f%2fwww.googleapis.com%2fauth%2fdrive%20https%3a%2f%2fwww.googleapis.com%2fauth%2fdrive.photos.readonly%20https%3a%2f%2fwww.googleapis.com%2fauth%2fpeopleapi.readonly\n",
            "\n",
            "Enter your authorization code:\n",
            "··········\n",
            "Mounted at /content/drive\n",
            "mkdir: cannot create directory ‘/content/drive/My Drive/Colab_data/MR1’: File exists\n",
            "/content/drive/My Drive/Colab_data/MR1\n",
            "\u001b[0m\u001b[01;34mdata\u001b[0m/  model  multilayer_perceptron_graph.png\n"
          ],
          "name": "stdout"
        }
      ]
    },
    {
      "cell_type": "code",
      "metadata": {
        "id": "a5hlO2lzffdL",
        "colab_type": "code",
        "outputId": "97875401-5a04-49eb-e32e-2065b12de28a",
        "colab": {
          "base_uri": "https://localhost:8080/",
          "height": 204
        }
      },
      "source": [
        "%matplotlib inline\n",
        "import numpy as np\n",
        "import pandas as pd\n",
        "\n",
        "DATA_PATH = './data/ml-latest-small'\n",
        "\n",
        "ratings = pd.read_csv(f\"{DATA_PATH}/ratings.csv\")\n",
        "ratings.head()"
      ],
      "execution_count": 61,
      "outputs": [
        {
          "output_type": "execute_result",
          "data": {
            "text/html": [
              "<div>\n",
              "<style scoped>\n",
              "    .dataframe tbody tr th:only-of-type {\n",
              "        vertical-align: middle;\n",
              "    }\n",
              "\n",
              "    .dataframe tbody tr th {\n",
              "        vertical-align: top;\n",
              "    }\n",
              "\n",
              "    .dataframe thead th {\n",
              "        text-align: right;\n",
              "    }\n",
              "</style>\n",
              "<table border=\"1\" class=\"dataframe\">\n",
              "  <thead>\n",
              "    <tr style=\"text-align: right;\">\n",
              "      <th></th>\n",
              "      <th>userId</th>\n",
              "      <th>movieId</th>\n",
              "      <th>rating</th>\n",
              "      <th>timestamp</th>\n",
              "    </tr>\n",
              "  </thead>\n",
              "  <tbody>\n",
              "    <tr>\n",
              "      <th>0</th>\n",
              "      <td>1</td>\n",
              "      <td>1</td>\n",
              "      <td>4.0</td>\n",
              "      <td>964982703</td>\n",
              "    </tr>\n",
              "    <tr>\n",
              "      <th>1</th>\n",
              "      <td>1</td>\n",
              "      <td>3</td>\n",
              "      <td>4.0</td>\n",
              "      <td>964981247</td>\n",
              "    </tr>\n",
              "    <tr>\n",
              "      <th>2</th>\n",
              "      <td>1</td>\n",
              "      <td>6</td>\n",
              "      <td>4.0</td>\n",
              "      <td>964982224</td>\n",
              "    </tr>\n",
              "    <tr>\n",
              "      <th>3</th>\n",
              "      <td>1</td>\n",
              "      <td>47</td>\n",
              "      <td>5.0</td>\n",
              "      <td>964983815</td>\n",
              "    </tr>\n",
              "    <tr>\n",
              "      <th>4</th>\n",
              "      <td>1</td>\n",
              "      <td>50</td>\n",
              "      <td>5.0</td>\n",
              "      <td>964982931</td>\n",
              "    </tr>\n",
              "  </tbody>\n",
              "</table>\n",
              "</div>"
            ],
            "text/plain": [
              "   userId  movieId  rating  timestamp\n",
              "0       1        1     4.0  964982703\n",
              "1       1        3     4.0  964981247\n",
              "2       1        6     4.0  964982224\n",
              "3       1       47     5.0  964983815\n",
              "4       1       50     5.0  964982931"
            ]
          },
          "metadata": {
            "tags": []
          },
          "execution_count": 61
        }
      ]
    },
    {
      "cell_type": "code",
      "metadata": {
        "id": "LHYm6fVVgSiI",
        "colab_type": "code",
        "outputId": "c0351b78-5a2a-4cc6-a5b5-54a6e498db18",
        "colab": {
          "base_uri": "https://localhost:8080/",
          "height": 204
        }
      },
      "source": [
        "movies = pd.read_csv(f\"{DATA_PATH}/movies.csv\")\n",
        "movies_ind_to_name = dict(zip(movies.movieId, movies.title))\n",
        "movies_name_to_ind = dict(zip(movies.title, movies.movieId))\n",
        "movies_ind_to_genre = dict(zip(movies.movieId, movies.genres))\n",
        "movies.head()"
      ],
      "execution_count": 62,
      "outputs": [
        {
          "output_type": "execute_result",
          "data": {
            "text/html": [
              "<div>\n",
              "<style scoped>\n",
              "    .dataframe tbody tr th:only-of-type {\n",
              "        vertical-align: middle;\n",
              "    }\n",
              "\n",
              "    .dataframe tbody tr th {\n",
              "        vertical-align: top;\n",
              "    }\n",
              "\n",
              "    .dataframe thead th {\n",
              "        text-align: right;\n",
              "    }\n",
              "</style>\n",
              "<table border=\"1\" class=\"dataframe\">\n",
              "  <thead>\n",
              "    <tr style=\"text-align: right;\">\n",
              "      <th></th>\n",
              "      <th>movieId</th>\n",
              "      <th>title</th>\n",
              "      <th>genres</th>\n",
              "    </tr>\n",
              "  </thead>\n",
              "  <tbody>\n",
              "    <tr>\n",
              "      <th>0</th>\n",
              "      <td>1</td>\n",
              "      <td>Toy Story (1995)</td>\n",
              "      <td>Adventure|Animation|Children|Comedy|Fantasy</td>\n",
              "    </tr>\n",
              "    <tr>\n",
              "      <th>1</th>\n",
              "      <td>2</td>\n",
              "      <td>Jumanji (1995)</td>\n",
              "      <td>Adventure|Children|Fantasy</td>\n",
              "    </tr>\n",
              "    <tr>\n",
              "      <th>2</th>\n",
              "      <td>3</td>\n",
              "      <td>Grumpier Old Men (1995)</td>\n",
              "      <td>Comedy|Romance</td>\n",
              "    </tr>\n",
              "    <tr>\n",
              "      <th>3</th>\n",
              "      <td>4</td>\n",
              "      <td>Waiting to Exhale (1995)</td>\n",
              "      <td>Comedy|Drama|Romance</td>\n",
              "    </tr>\n",
              "    <tr>\n",
              "      <th>4</th>\n",
              "      <td>5</td>\n",
              "      <td>Father of the Bride Part II (1995)</td>\n",
              "      <td>Comedy</td>\n",
              "    </tr>\n",
              "  </tbody>\n",
              "</table>\n",
              "</div>"
            ],
            "text/plain": [
              "   movieId  ...                                       genres\n",
              "0        1  ...  Adventure|Animation|Children|Comedy|Fantasy\n",
              "1        2  ...                   Adventure|Children|Fantasy\n",
              "2        3  ...                               Comedy|Romance\n",
              "3        4  ...                         Comedy|Drama|Romance\n",
              "4        5  ...                                       Comedy\n",
              "\n",
              "[5 rows x 3 columns]"
            ]
          },
          "metadata": {
            "tags": []
          },
          "execution_count": 62
        }
      ]
    },
    {
      "cell_type": "code",
      "metadata": {
        "id": "bF9Bapmpd3EI",
        "colab_type": "code",
        "colab": {}
      },
      "source": [
        "maxLen = max(movies['genres'].apply(lambda x: len(x.split('|'))))\n",
        "\n",
        "def make_all_same(x):\n",
        "  now = x.split(\"|\")\n",
        "  while len(now) < maxLen:\n",
        "    now.append(\"\")\n",
        "  return now\n",
        "\n",
        "movies['genres_list'] = movies['genres'].apply(make_all_same)"
      ],
      "execution_count": 0,
      "outputs": []
    },
    {
      "cell_type": "code",
      "metadata": {
        "id": "hutxRFF5d9rj",
        "colab_type": "code",
        "colab": {
          "base_uri": "https://localhost:8080/",
          "height": 35
        },
        "outputId": "ef08baa4-7f7e-4f6e-e4b1-e2bde5afeb81"
      },
      "source": [
        "s = set()\n",
        "for v in movies['genres_list'].values:\n",
        "  for g in v:\n",
        "    s.add(g)\n",
        "\n",
        "n_genres = len(s)\n",
        "n_genres\n"
      ],
      "execution_count": 64,
      "outputs": [
        {
          "output_type": "execute_result",
          "data": {
            "text/plain": [
              "21"
            ]
          },
          "metadata": {
            "tags": []
          },
          "execution_count": 64
        }
      ]
    },
    {
      "cell_type": "code",
      "metadata": {
        "id": "X1AgiqKxeJeI",
        "colab_type": "code",
        "colab": {
          "base_uri": "https://localhost:8080/",
          "height": 204
        },
        "outputId": "6b9af80b-8110-4366-e31c-bebedfd63a64"
      },
      "source": [
        "joined_ratings = pd.merge(ratings, movies, \"inner\", \"movieId\")\n",
        "joined_ratings.head()"
      ],
      "execution_count": 65,
      "outputs": [
        {
          "output_type": "execute_result",
          "data": {
            "text/html": [
              "<div>\n",
              "<style scoped>\n",
              "    .dataframe tbody tr th:only-of-type {\n",
              "        vertical-align: middle;\n",
              "    }\n",
              "\n",
              "    .dataframe tbody tr th {\n",
              "        vertical-align: top;\n",
              "    }\n",
              "\n",
              "    .dataframe thead th {\n",
              "        text-align: right;\n",
              "    }\n",
              "</style>\n",
              "<table border=\"1\" class=\"dataframe\">\n",
              "  <thead>\n",
              "    <tr style=\"text-align: right;\">\n",
              "      <th></th>\n",
              "      <th>userId</th>\n",
              "      <th>movieId</th>\n",
              "      <th>rating</th>\n",
              "      <th>timestamp</th>\n",
              "      <th>title</th>\n",
              "      <th>genres</th>\n",
              "      <th>genres_list</th>\n",
              "    </tr>\n",
              "  </thead>\n",
              "  <tbody>\n",
              "    <tr>\n",
              "      <th>0</th>\n",
              "      <td>1</td>\n",
              "      <td>1</td>\n",
              "      <td>4.0</td>\n",
              "      <td>964982703</td>\n",
              "      <td>Toy Story (1995)</td>\n",
              "      <td>Adventure|Animation|Children|Comedy|Fantasy</td>\n",
              "      <td>[Adventure, Animation, Children, Comedy, Fanta...</td>\n",
              "    </tr>\n",
              "    <tr>\n",
              "      <th>1</th>\n",
              "      <td>5</td>\n",
              "      <td>1</td>\n",
              "      <td>4.0</td>\n",
              "      <td>847434962</td>\n",
              "      <td>Toy Story (1995)</td>\n",
              "      <td>Adventure|Animation|Children|Comedy|Fantasy</td>\n",
              "      <td>[Adventure, Animation, Children, Comedy, Fanta...</td>\n",
              "    </tr>\n",
              "    <tr>\n",
              "      <th>2</th>\n",
              "      <td>7</td>\n",
              "      <td>1</td>\n",
              "      <td>4.5</td>\n",
              "      <td>1106635946</td>\n",
              "      <td>Toy Story (1995)</td>\n",
              "      <td>Adventure|Animation|Children|Comedy|Fantasy</td>\n",
              "      <td>[Adventure, Animation, Children, Comedy, Fanta...</td>\n",
              "    </tr>\n",
              "    <tr>\n",
              "      <th>3</th>\n",
              "      <td>15</td>\n",
              "      <td>1</td>\n",
              "      <td>2.5</td>\n",
              "      <td>1510577970</td>\n",
              "      <td>Toy Story (1995)</td>\n",
              "      <td>Adventure|Animation|Children|Comedy|Fantasy</td>\n",
              "      <td>[Adventure, Animation, Children, Comedy, Fanta...</td>\n",
              "    </tr>\n",
              "    <tr>\n",
              "      <th>4</th>\n",
              "      <td>17</td>\n",
              "      <td>1</td>\n",
              "      <td>4.5</td>\n",
              "      <td>1305696483</td>\n",
              "      <td>Toy Story (1995)</td>\n",
              "      <td>Adventure|Animation|Children|Comedy|Fantasy</td>\n",
              "      <td>[Adventure, Animation, Children, Comedy, Fanta...</td>\n",
              "    </tr>\n",
              "  </tbody>\n",
              "</table>\n",
              "</div>"
            ],
            "text/plain": [
              "   userId  ...                                        genres_list\n",
              "0       1  ...  [Adventure, Animation, Children, Comedy, Fanta...\n",
              "1       5  ...  [Adventure, Animation, Children, Comedy, Fanta...\n",
              "2       7  ...  [Adventure, Animation, Children, Comedy, Fanta...\n",
              "3      15  ...  [Adventure, Animation, Children, Comedy, Fanta...\n",
              "4      17  ...  [Adventure, Animation, Children, Comedy, Fanta...\n",
              "\n",
              "[5 rows x 7 columns]"
            ]
          },
          "metadata": {
            "tags": []
          },
          "execution_count": 65
        }
      ]
    },
    {
      "cell_type": "code",
      "metadata": {
        "id": "6Gg3PYmygs2X",
        "colab_type": "code",
        "outputId": "b689783c-b421-40bb-a169-9d0a690a4ba0",
        "colab": {
          "base_uri": "https://localhost:8080/",
          "height": 35
        }
      },
      "source": [
        "from sklearn.model_selection import train_test_split\n",
        "from sklearn.preprocessing import LabelEncoder, MinMaxScaler\n",
        "\n",
        "user_enc = LabelEncoder()\n",
        "joined_ratings['user'] = user_enc.fit_transform(joined_ratings['userId'].values)\n",
        "n_users = joined_ratings['user'].nunique()\n",
        "\n",
        "movie_enc = LabelEncoder()\n",
        "movie_enc.fit(movies['movieId'])\n",
        "joined_ratings['movie'] = movie_enc.transform(joined_ratings['movieId'].values)\n",
        "n_movies = movies['movieId'].nunique()\n",
        "\n",
        "joined_ratings['rating'] = joined_ratings['rating'].values.astype(np.float32)\n",
        "min_rating = min(joined_ratings['rating'])\n",
        "max_rating = max(joined_ratings['rating'])\n",
        "\n",
        "# n_users, n_movies, min_rating, max_rating\n",
        "joined_ratings.head()\n",
        "joined_ratings.shape"
      ],
      "execution_count": 66,
      "outputs": [
        {
          "output_type": "execute_result",
          "data": {
            "text/plain": [
              "(100836, 9)"
            ]
          },
          "metadata": {
            "tags": []
          },
          "execution_count": 66
        }
      ]
    },
    {
      "cell_type": "code",
      "metadata": {
        "id": "qElTiyQDecE9",
        "colab_type": "code",
        "colab": {
          "base_uri": "https://localhost:8080/",
          "height": 204
        },
        "outputId": "2e3e6b96-8559-4abf-bd75-dfb0f785985a"
      },
      "source": [
        "genre_enc = LabelEncoder()\n",
        "genre_enc.fit(list(s))\n",
        "joined_ratings['genres_list'] = joined_ratings['genres_list'].apply(lambda x: genre_enc.transform(x))\n",
        "joined_ratings.head()"
      ],
      "execution_count": 67,
      "outputs": [
        {
          "output_type": "execute_result",
          "data": {
            "text/html": [
              "<div>\n",
              "<style scoped>\n",
              "    .dataframe tbody tr th:only-of-type {\n",
              "        vertical-align: middle;\n",
              "    }\n",
              "\n",
              "    .dataframe tbody tr th {\n",
              "        vertical-align: top;\n",
              "    }\n",
              "\n",
              "    .dataframe thead th {\n",
              "        text-align: right;\n",
              "    }\n",
              "</style>\n",
              "<table border=\"1\" class=\"dataframe\">\n",
              "  <thead>\n",
              "    <tr style=\"text-align: right;\">\n",
              "      <th></th>\n",
              "      <th>userId</th>\n",
              "      <th>movieId</th>\n",
              "      <th>rating</th>\n",
              "      <th>timestamp</th>\n",
              "      <th>title</th>\n",
              "      <th>genres</th>\n",
              "      <th>genres_list</th>\n",
              "      <th>user</th>\n",
              "      <th>movie</th>\n",
              "    </tr>\n",
              "  </thead>\n",
              "  <tbody>\n",
              "    <tr>\n",
              "      <th>0</th>\n",
              "      <td>1</td>\n",
              "      <td>1</td>\n",
              "      <td>4.0</td>\n",
              "      <td>964982703</td>\n",
              "      <td>Toy Story (1995)</td>\n",
              "      <td>Adventure|Animation|Children|Comedy|Fantasy</td>\n",
              "      <td>[3, 4, 5, 6, 10, 0, 0, 0, 0, 0]</td>\n",
              "      <td>0</td>\n",
              "      <td>0</td>\n",
              "    </tr>\n",
              "    <tr>\n",
              "      <th>1</th>\n",
              "      <td>5</td>\n",
              "      <td>1</td>\n",
              "      <td>4.0</td>\n",
              "      <td>847434962</td>\n",
              "      <td>Toy Story (1995)</td>\n",
              "      <td>Adventure|Animation|Children|Comedy|Fantasy</td>\n",
              "      <td>[3, 4, 5, 6, 10, 0, 0, 0, 0, 0]</td>\n",
              "      <td>4</td>\n",
              "      <td>0</td>\n",
              "    </tr>\n",
              "    <tr>\n",
              "      <th>2</th>\n",
              "      <td>7</td>\n",
              "      <td>1</td>\n",
              "      <td>4.5</td>\n",
              "      <td>1106635946</td>\n",
              "      <td>Toy Story (1995)</td>\n",
              "      <td>Adventure|Animation|Children|Comedy|Fantasy</td>\n",
              "      <td>[3, 4, 5, 6, 10, 0, 0, 0, 0, 0]</td>\n",
              "      <td>6</td>\n",
              "      <td>0</td>\n",
              "    </tr>\n",
              "    <tr>\n",
              "      <th>3</th>\n",
              "      <td>15</td>\n",
              "      <td>1</td>\n",
              "      <td>2.5</td>\n",
              "      <td>1510577970</td>\n",
              "      <td>Toy Story (1995)</td>\n",
              "      <td>Adventure|Animation|Children|Comedy|Fantasy</td>\n",
              "      <td>[3, 4, 5, 6, 10, 0, 0, 0, 0, 0]</td>\n",
              "      <td>14</td>\n",
              "      <td>0</td>\n",
              "    </tr>\n",
              "    <tr>\n",
              "      <th>4</th>\n",
              "      <td>17</td>\n",
              "      <td>1</td>\n",
              "      <td>4.5</td>\n",
              "      <td>1305696483</td>\n",
              "      <td>Toy Story (1995)</td>\n",
              "      <td>Adventure|Animation|Children|Comedy|Fantasy</td>\n",
              "      <td>[3, 4, 5, 6, 10, 0, 0, 0, 0, 0]</td>\n",
              "      <td>16</td>\n",
              "      <td>0</td>\n",
              "    </tr>\n",
              "  </tbody>\n",
              "</table>\n",
              "</div>"
            ],
            "text/plain": [
              "   userId  movieId  rating  ...                      genres_list user movie\n",
              "0       1        1     4.0  ...  [3, 4, 5, 6, 10, 0, 0, 0, 0, 0]    0     0\n",
              "1       5        1     4.0  ...  [3, 4, 5, 6, 10, 0, 0, 0, 0, 0]    4     0\n",
              "2       7        1     4.5  ...  [3, 4, 5, 6, 10, 0, 0, 0, 0, 0]    6     0\n",
              "3      15        1     2.5  ...  [3, 4, 5, 6, 10, 0, 0, 0, 0, 0]   14     0\n",
              "4      17        1     4.5  ...  [3, 4, 5, 6, 10, 0, 0, 0, 0, 0]   16     0\n",
              "\n",
              "[5 rows x 9 columns]"
            ]
          },
          "metadata": {
            "tags": []
          },
          "execution_count": 67
        }
      ]
    },
    {
      "cell_type": "code",
      "metadata": {
        "id": "hUSxVAQtBxuC",
        "colab_type": "code",
        "outputId": "312ca63e-6e90-45b2-ecd8-b765f76833ad",
        "colab": {
          "base_uri": "https://localhost:8080/",
          "height": 35
        }
      },
      "source": [
        "n_users, n_movies, n_genres"
      ],
      "execution_count": 68,
      "outputs": [
        {
          "output_type": "execute_result",
          "data": {
            "text/plain": [
              "(610, 9742, 21)"
            ]
          },
          "metadata": {
            "tags": []
          },
          "execution_count": 68
        }
      ]
    },
    {
      "cell_type": "code",
      "metadata": {
        "id": "Odwkj1fiX2Vy",
        "colab_type": "code",
        "outputId": "5d4dcef3-56c6-45bf-cb07-1ebfbe562339",
        "colab": {
          "base_uri": "https://localhost:8080/",
          "height": 35
        }
      },
      "source": [
        "# Delete all the rows with less ratings\n",
        "indexes = joined_ratings[ joined_ratings.rating < 3.5 ].index\n",
        "joined_ratings = joined_ratings.drop(indexes)\n",
        "joined_ratings.shape"
      ],
      "execution_count": 69,
      "outputs": [
        {
          "output_type": "execute_result",
          "data": {
            "text/plain": [
              "(61716, 9)"
            ]
          },
          "metadata": {
            "tags": []
          },
          "execution_count": 69
        }
      ]
    },
    {
      "cell_type": "code",
      "metadata": {
        "id": "Ylmeh315ejj7",
        "colab_type": "code",
        "colab": {
          "base_uri": "https://localhost:8080/",
          "height": 204
        },
        "outputId": "41a75b0d-7ecd-4b5e-dac5-b7738e005872"
      },
      "source": [
        "final_one = joined_ratings.drop(['timestamp', 'genres'], axis=1)\n",
        "final_one.head()"
      ],
      "execution_count": 70,
      "outputs": [
        {
          "output_type": "execute_result",
          "data": {
            "text/html": [
              "<div>\n",
              "<style scoped>\n",
              "    .dataframe tbody tr th:only-of-type {\n",
              "        vertical-align: middle;\n",
              "    }\n",
              "\n",
              "    .dataframe tbody tr th {\n",
              "        vertical-align: top;\n",
              "    }\n",
              "\n",
              "    .dataframe thead th {\n",
              "        text-align: right;\n",
              "    }\n",
              "</style>\n",
              "<table border=\"1\" class=\"dataframe\">\n",
              "  <thead>\n",
              "    <tr style=\"text-align: right;\">\n",
              "      <th></th>\n",
              "      <th>userId</th>\n",
              "      <th>movieId</th>\n",
              "      <th>rating</th>\n",
              "      <th>title</th>\n",
              "      <th>genres_list</th>\n",
              "      <th>user</th>\n",
              "      <th>movie</th>\n",
              "    </tr>\n",
              "  </thead>\n",
              "  <tbody>\n",
              "    <tr>\n",
              "      <th>0</th>\n",
              "      <td>1</td>\n",
              "      <td>1</td>\n",
              "      <td>4.0</td>\n",
              "      <td>Toy Story (1995)</td>\n",
              "      <td>[3, 4, 5, 6, 10, 0, 0, 0, 0, 0]</td>\n",
              "      <td>0</td>\n",
              "      <td>0</td>\n",
              "    </tr>\n",
              "    <tr>\n",
              "      <th>1</th>\n",
              "      <td>5</td>\n",
              "      <td>1</td>\n",
              "      <td>4.0</td>\n",
              "      <td>Toy Story (1995)</td>\n",
              "      <td>[3, 4, 5, 6, 10, 0, 0, 0, 0, 0]</td>\n",
              "      <td>4</td>\n",
              "      <td>0</td>\n",
              "    </tr>\n",
              "    <tr>\n",
              "      <th>2</th>\n",
              "      <td>7</td>\n",
              "      <td>1</td>\n",
              "      <td>4.5</td>\n",
              "      <td>Toy Story (1995)</td>\n",
              "      <td>[3, 4, 5, 6, 10, 0, 0, 0, 0, 0]</td>\n",
              "      <td>6</td>\n",
              "      <td>0</td>\n",
              "    </tr>\n",
              "    <tr>\n",
              "      <th>4</th>\n",
              "      <td>17</td>\n",
              "      <td>1</td>\n",
              "      <td>4.5</td>\n",
              "      <td>Toy Story (1995)</td>\n",
              "      <td>[3, 4, 5, 6, 10, 0, 0, 0, 0, 0]</td>\n",
              "      <td>16</td>\n",
              "      <td>0</td>\n",
              "    </tr>\n",
              "    <tr>\n",
              "      <th>5</th>\n",
              "      <td>18</td>\n",
              "      <td>1</td>\n",
              "      <td>3.5</td>\n",
              "      <td>Toy Story (1995)</td>\n",
              "      <td>[3, 4, 5, 6, 10, 0, 0, 0, 0, 0]</td>\n",
              "      <td>17</td>\n",
              "      <td>0</td>\n",
              "    </tr>\n",
              "  </tbody>\n",
              "</table>\n",
              "</div>"
            ],
            "text/plain": [
              "   userId  movieId  rating  ...                      genres_list user  movie\n",
              "0       1        1     4.0  ...  [3, 4, 5, 6, 10, 0, 0, 0, 0, 0]    0      0\n",
              "1       5        1     4.0  ...  [3, 4, 5, 6, 10, 0, 0, 0, 0, 0]    4      0\n",
              "2       7        1     4.5  ...  [3, 4, 5, 6, 10, 0, 0, 0, 0, 0]    6      0\n",
              "4      17        1     4.5  ...  [3, 4, 5, 6, 10, 0, 0, 0, 0, 0]   16      0\n",
              "5      18        1     3.5  ...  [3, 4, 5, 6, 10, 0, 0, 0, 0, 0]   17      0\n",
              "\n",
              "[5 rows x 7 columns]"
            ]
          },
          "metadata": {
            "tags": []
          },
          "execution_count": 70
        }
      ]
    },
    {
      "cell_type": "code",
      "metadata": {
        "id": "yMDdqbPTemA5",
        "colab_type": "code",
        "colab": {
          "base_uri": "https://localhost:8080/",
          "height": 35
        },
        "outputId": "5b7d6475-0bef-4c8e-8fc1-a182f2550697"
      },
      "source": [
        "del joined_ratings\n",
        "del ratings\n",
        "del nratings\n",
        "import gc\n",
        "gc.collect()"
      ],
      "execution_count": 71,
      "outputs": [
        {
          "output_type": "execute_result",
          "data": {
            "text/plain": [
              "6371"
            ]
          },
          "metadata": {
            "tags": []
          },
          "execution_count": 71
        }
      ]
    },
    {
      "cell_type": "code",
      "metadata": {
        "id": "mmxdVJmr4LqF",
        "colab_type": "code",
        "colab": {}
      },
      "source": [
        "user_movie = {}\n",
        "for index, row in final_one.iterrows():\n",
        "  now = int(row.user)\n",
        "  if now not in user_movie:\n",
        "    user_movie[now] = []\n",
        "  user_movie[now].append((row.movie, row.rating, row.genres_list))\n",
        "\n",
        "MIN_NUMBER_OF_MOVIES = 4"
      ],
      "execution_count": 0,
      "outputs": []
    },
    {
      "cell_type": "code",
      "metadata": {
        "id": "dk-eDjqj5WGY",
        "colab_type": "code",
        "outputId": "7d3268ea-c271-46a7-a26d-f52940205383",
        "colab": {
          "base_uri": "https://localhost:8080/",
          "height": 35
        }
      },
      "source": [
        "MIN_NUMBER_OF_MOVIES, n_users, n_movies, n_genres, min_rating, max_rating"
      ],
      "execution_count": 73,
      "outputs": [
        {
          "output_type": "execute_result",
          "data": {
            "text/plain": [
              "(4, 610, 9742, 21, 0.5, 5.0)"
            ]
          },
          "metadata": {
            "tags": []
          },
          "execution_count": 73
        }
      ]
    },
    {
      "cell_type": "code",
      "metadata": {
        "id": "Qe3J9WLL7xwM",
        "colab_type": "code",
        "colab": {}
      },
      "source": [
        "def convert_to_one_hot(movies):\n",
        "  now = [0 for _ in range(n_movies)]\n",
        "  for movie, rating, genre in movies:\n",
        "    now[int(movie)] = 1.0\n",
        "  return now\n",
        "\n",
        "prev_movies = []\n",
        "prev_genres = []\n",
        "next_movies = []\n",
        "for user in range(n_users):\n",
        "  if user not in user_movie:\n",
        "    continue\n",
        "  user_movie[user].sort(key=lambda x: x[1])\n",
        "  for i in range(len(user_movie[user]) - MIN_NUMBER_OF_MOVIES - 1):\n",
        "    now_movies = user_movie[user]\n",
        "    \n",
        "    # Previous movies he has saw already\n",
        "    prev_m = [mov for (mov, rat, genre) in now_movies[i:i+MIN_NUMBER_OF_MOVIES]]\n",
        "    prev_g = [genre for (mov, rat, genre) in now_movies[i:i+MIN_NUMBER_OF_MOVIES]]\n",
        "    prev_movies.append(prev_m);\n",
        "    prev_genres.append(prev_g);\n",
        "\n",
        "    # Next movies he should see\n",
        "    next_movies.append(convert_to_one_hot(now_movies[i+MIN_NUMBER_OF_MOVIES:]));\n"
      ],
      "execution_count": 0,
      "outputs": []
    },
    {
      "cell_type": "code",
      "metadata": {
        "id": "QBNpeNrnCMu8",
        "colab_type": "code",
        "outputId": "76f392b7-5ab9-475b-dab4-20dcca500181",
        "colab": {
          "base_uri": "https://localhost:8080/",
          "height": 35
        }
      },
      "source": [
        "len(prev_movies), len(next_movies)"
      ],
      "execution_count": 76,
      "outputs": [
        {
          "output_type": "execute_result",
          "data": {
            "text/plain": [
              "(58682, 58682)"
            ]
          },
          "metadata": {
            "tags": []
          },
          "execution_count": 76
        }
      ]
    },
    {
      "cell_type": "code",
      "metadata": {
        "id": "N9IeqRI8vAKZ",
        "colab_type": "code",
        "outputId": "48498c86-0a54-4c79-8999-1965d90664ad",
        "colab": {
          "base_uri": "https://localhost:8080/",
          "height": 35
        }
      },
      "source": [
        "X_m = np.array(prev_movies).reshape(len(prev_movies), 4, 1)\n",
        "X_g = np.array(prev_genres).reshape(len(prev_genres), MIN_NUMBER_OF_MOVIES * 10)\n",
        "# X = np.concatenate()\n",
        "X_m.shape, X_g.shape\n",
        "Y = np.array(next_movies)\n",
        "X.shape, Y.shape"
      ],
      "execution_count": 117,
      "outputs": [
        {
          "output_type": "execute_result",
          "data": {
            "text/plain": [
              "((58682, 4, 2), (58682, 9742))"
            ]
          },
          "metadata": {
            "tags": []
          },
          "execution_count": 117
        }
      ]
    },
    {
      "cell_type": "code",
      "metadata": {
        "id": "EOTjbvjM0arq",
        "colab_type": "code",
        "colab": {}
      },
      "source": [
        "X_train, X_test, y_train, y_test = train_test_split(X, Y, test_size=0.1, random_state=47)"
      ],
      "execution_count": 0,
      "outputs": []
    },
    {
      "cell_type": "code",
      "metadata": {
        "id": "3e_hSEElvWqB",
        "colab_type": "code",
        "outputId": "ed2d03df-d2ee-496e-c37a-7630c30e2f96",
        "colab": {
          "base_uri": "https://localhost:8080/",
          "height": 35
        }
      },
      "source": [
        "X_train.shape, X_test.shape, y_train.shape, y_test.shape"
      ],
      "execution_count": 81,
      "outputs": [
        {
          "output_type": "execute_result",
          "data": {
            "text/plain": [
              "((52813, 4, 2), (5869, 4, 2), (52813, 9742), (5869, 9742))"
            ]
          },
          "metadata": {
            "tags": []
          },
          "execution_count": 81
        }
      ]
    },
    {
      "cell_type": "code",
      "metadata": {
        "id": "FT1IiKeHl2f1",
        "colab_type": "code",
        "colab": {
          "base_uri": "https://localhost:8080/",
          "height": 53
        },
        "outputId": "0e730bb0-d0fb-4476-a456-d0f75ad0cd5d"
      },
      "source": [
        "X_train[0][:][0], X_train[0][0][1]\n",
        "# X_train_array = [X_train[:][:][0], X_train[:][:][1]]\n",
        "# X_test_array = [X_test[:][:][0].reshape(4, 1), X_test[:][:][1]]"
      ],
      "execution_count": 111,
      "outputs": [
        {
          "output_type": "execute_result",
          "data": {
            "text/plain": [
              "(array([2605, array([ 6,  9, 16,  0,  0,  0,  0,  0,  0,  0])],\n",
              "       dtype=object), array([ 6,  9, 16,  0,  0,  0,  0,  0,  0,  0]))"
            ]
          },
          "metadata": {
            "tags": []
          },
          "execution_count": 111
        }
      ]
    },
    {
      "cell_type": "code",
      "metadata": {
        "id": "6je57NnvCXjh",
        "colab_type": "code",
        "colab": {}
      },
      "source": [
        "from keras.models import Model\n",
        "from keras.layers import Input, Reshape, Dot\n",
        "from keras.layers.embeddings import Embedding\n",
        "from keras.optimizers import Adam, RMSprop\n",
        "from keras.regularizers import l2\n",
        "from keras.layers import Concatenate, Dense, Dropout, Activation, Lambda, LSTM, Flatten\n",
        "\n",
        "def Model1(n_users, n_movies):\n",
        "  movie = Input(shape=(MIN_NUMBER_OF_MOVIES, 1,))\n",
        "  # m = LSTM(128)(movie)\n",
        "\n",
        "  genre = Input(shape=(MIN_NUMBER_OF_MOVIES * 10, ))\n",
        "  g = Embedding(n_genres, 20)(genre)\n",
        "  g = Flatten()(g)\n",
        "\n",
        "  # x = Concatenate()([g])\n",
        "  x = g\n",
        "  x = Dense(1000)(x)\n",
        "  x = Dropout(0.2)(x)\n",
        "  x = Dense(n_movies)(x)\n",
        "  x = Activation('sigmoid')(x)\n",
        "\n",
        "  model = Model(inputs=[movie, genre], outputs=x)\n",
        "  # rms = RMSprop(lr=0.001)\n",
        "  model.compile(loss='binary_crossentropy', optimizer='adam', metrics=['accuracy'])  \n",
        "  # model.compile(loss='mean_squared_error', optimizer=rms, metrics=['accuracy'])\n",
        "  return model"
      ],
      "execution_count": 0,
      "outputs": []
    },
    {
      "cell_type": "code",
      "metadata": {
        "id": "2RIX_ozgE-ec",
        "colab_type": "code",
        "outputId": "f3bfffde-c84d-4cdc-8dfa-b8b84004bb0d",
        "colab": {
          "base_uri": "https://localhost:8080/",
          "height": 413
        }
      },
      "source": [
        "model = Model1(n_users, n_movies)\n",
        "model.summary()\n",
        "\n",
        "# from keras.utils import plot_model\n",
        "# plot_model(model, to_file='multilayer_perceptron_graph.png')"
      ],
      "execution_count": 151,
      "outputs": [
        {
          "output_type": "stream",
          "text": [
            "Model: \"model_9\"\n",
            "_________________________________________________________________\n",
            "Layer (type)                 Output Shape              Param #   \n",
            "=================================================================\n",
            "input_30 (InputLayer)        (None, 40)                0         \n",
            "_________________________________________________________________\n",
            "embedding_12 (Embedding)     (None, 40, 20)            420       \n",
            "_________________________________________________________________\n",
            "flatten_9 (Flatten)          (None, 800)               0         \n",
            "_________________________________________________________________\n",
            "dense_19 (Dense)             (None, 1000)              801000    \n",
            "_________________________________________________________________\n",
            "dropout_10 (Dropout)         (None, 1000)              0         \n",
            "_________________________________________________________________\n",
            "dense_20 (Dense)             (None, 9742)              9751742   \n",
            "_________________________________________________________________\n",
            "activation_10 (Activation)   (None, 9742)              0         \n",
            "=================================================================\n",
            "Total params: 10,553,162\n",
            "Trainable params: 10,553,162\n",
            "Non-trainable params: 0\n",
            "_________________________________________________________________\n"
          ],
          "name": "stdout"
        }
      ]
    },
    {
      "cell_type": "code",
      "metadata": {
        "id": "wbllzWQKaI_q",
        "colab_type": "code",
        "colab": {}
      },
      "source": [
        "from keras.callbacks import EarlyStopping, ModelCheckpoint\n",
        "\n",
        "CHECKPOINT_PATH = './model-multi-label'\n",
        "\n",
        "callbacks = []\n",
        "callbacks.append(EarlyStopping(monitor='val_loss', patience=2))\n",
        "callbacks.append(ModelCheckpoint(CHECKPOINT_PATH,  monitor='val_loss', save_best_only=True))"
      ],
      "execution_count": 0,
      "outputs": []
    },
    {
      "cell_type": "code",
      "metadata": {
        "id": "fdeKR53oIMBS",
        "colab_type": "code",
        "outputId": "6ce81bda-b569-4491-938d-d060a36441fd",
        "colab": {
          "base_uri": "https://localhost:8080/",
          "height": 199
        }
      },
      "source": [
        "history = model.fit(x=[X_m, X_g], y=Y, batch_size=128, epochs=50,\n",
        "                    verbose=1, validation_split=0.1,\n",
        "                    callbacks=callbacks)"
      ],
      "execution_count": 153,
      "outputs": [
        {
          "output_type": "stream",
          "text": [
            "/usr/local/lib/python3.6/dist-packages/tensorflow/python/framework/indexed_slices.py:434: UserWarning: Converting sparse IndexedSlices to a dense Tensor of unknown shape. This may consume a large amount of memory.\n",
            "  \"Converting sparse IndexedSlices to a dense Tensor of unknown shape. \"\n"
          ],
          "name": "stderr"
        },
        {
          "output_type": "stream",
          "text": [
            "Train on 52813 samples, validate on 5869 samples\n",
            "Epoch 1/50\n",
            "52813/52813 [==============================] - 21s 393us/step - loss: 0.0814 - accuracy: 0.9815 - val_loss: 0.1155 - val_accuracy: 0.9749\n",
            "Epoch 2/50\n",
            "52813/52813 [==============================] - 21s 392us/step - loss: 0.0632 - accuracy: 0.9838 - val_loss: 0.1167 - val_accuracy: 0.9749\n",
            "Epoch 3/50\n",
            "52813/52813 [==============================] - 20s 386us/step - loss: 0.0628 - accuracy: 0.9838 - val_loss: 0.1175 - val_accuracy: 0.9749\n"
          ],
          "name": "stdout"
        }
      ]
    },
    {
      "cell_type": "code",
      "metadata": {
        "id": "efKeZq-wakTe",
        "colab_type": "code",
        "colab": {
          "base_uri": "https://localhost:8080/",
          "height": 73
        },
        "outputId": "89a3b53c-864d-44d8-d4fb-85f17c6aa0fc"
      },
      "source": [
        "from keras.models import load_model\n",
        "\n",
        "best = load_model(CHECKPOINT_PATH)"
      ],
      "execution_count": 155,
      "outputs": [
        {
          "output_type": "stream",
          "text": [
            "/usr/local/lib/python3.6/dist-packages/tensorflow/python/framework/indexed_slices.py:434: UserWarning: Converting sparse IndexedSlices to a dense Tensor of unknown shape. This may consume a large amount of memory.\n",
            "  \"Converting sparse IndexedSlices to a dense Tensor of unknown shape. \"\n"
          ],
          "name": "stderr"
        }
      ]
    },
    {
      "cell_type": "code",
      "metadata": {
        "id": "2egXkaB4tOo_",
        "colab_type": "code",
        "colab": {}
      },
      "source": [
        "def get_result(movie_nos, n = 10):\n",
        "  movies = movie_enc.transform(movie_nos)\n",
        "  genres = np.array([list(genre_enc.transform(make_all_same(movies_ind_to_genre[movie_id]))) for movie_id in movie_nos]).reshape(1, MIN_NUMBER_OF_MOVIES * 10)\n",
        "  # print(genres)\n",
        "  pred = best.predict([genres])[0]\n",
        "  # print(pred)\n",
        "  res = []\n",
        "  for (ind, pred) in enumerate(pred):\n",
        "      res.append((ind, pred))\n",
        "\n",
        "  res.sort(key=lambda x: x[1], reverse=True)\n",
        "  res = [(movie_enc.inverse_transform([id])[0], pred) for (id, pred) in res]\n",
        "  for (movieId, pred) in res[0:n]:\n",
        "    print(f\"{movies_ind_to_name[movieId]} -> {pred}\")\n",
        "  return None"
      ],
      "execution_count": 0,
      "outputs": []
    },
    {
      "cell_type": "code",
      "metadata": {
        "id": "JwS11I_48jPv",
        "colab_type": "code",
        "outputId": "68d8407d-14b3-4ba4-ff9d-167247df868d",
        "colab": {
          "base_uri": "https://localhost:8080/",
          "height": 197
        }
      },
      "source": [
        "# godfather, taxidriver, raging bull, goodfellas\n",
        "get_result([858, 111, 1228, 1213], 10)"
      ],
      "execution_count": 159,
      "outputs": [
        {
          "output_type": "stream",
          "text": [
            "Shawshank Redemption, The (1994) -> 0.4859429895877838\n",
            "Godfather, The (1972) -> 0.43963679671287537\n",
            "Pulp Fiction (1994) -> 0.42580491304397583\n",
            "Silence of the Lambs, The (1991) -> 0.3379665017127991\n",
            "Godfather: Part II, The (1974) -> 0.33401304483413696\n",
            "Schindler's List (1993) -> 0.3322215676307678\n",
            "Memento (2000) -> 0.31244343519210815\n",
            "Monty Python and the Holy Grail (1975) -> 0.3116236925125122\n",
            "American Beauty (1999) -> 0.3053744435310364\n",
            "Casablanca (1942) -> 0.3002318739891052\n"
          ],
          "name": "stdout"
        }
      ]
    },
    {
      "cell_type": "code",
      "metadata": {
        "id": "sBHmee-WIkBV",
        "colab_type": "code",
        "outputId": "4c716f23-91c0-44e8-e27e-06ece27f74e0",
        "colab": {
          "base_uri": "https://localhost:8080/",
          "height": 197
        }
      },
      "source": [
        "# eat pray love, Eternal Sunshine of the Spotless Mind, the intern, The notebook\n",
        "get_result([80551, 7361, 140110, 8533], 10)"
      ],
      "execution_count": 160,
      "outputs": [
        {
          "output_type": "stream",
          "text": [
            "Shawshank Redemption, The (1994) -> 0.4891999661922455\n",
            "Godfather, The (1972) -> 0.4533776640892029\n",
            "Pulp Fiction (1994) -> 0.43185603618621826\n",
            "Silence of the Lambs, The (1991) -> 0.3504878878593445\n",
            "Schindler's List (1993) -> 0.3471277356147766\n",
            "Godfather: Part II, The (1974) -> 0.34486883878707886\n",
            "Casablanca (1942) -> 0.3293911814689636\n",
            "Monty Python and the Holy Grail (1975) -> 0.32638031244277954\n",
            "Memento (2000) -> 0.320480614900589\n",
            "American Beauty (1999) -> 0.31252288818359375\n"
          ],
          "name": "stdout"
        }
      ]
    },
    {
      "cell_type": "code",
      "metadata": {
        "id": "3O9TJVodG-KU",
        "colab_type": "code",
        "outputId": "248dc561-3265-4f8a-c7f2-23d7196f5f02",
        "colab": {
          "base_uri": "https://localhost:8080/",
          "height": 197
        }
      },
      "source": [
        "# into the wild, seven years in tibet, cast away, the pursuit of happyness\n",
        "get_result([55247, 1619, 4022, 8131], 10)"
      ],
      "execution_count": 161,
      "outputs": [
        {
          "output_type": "stream",
          "text": [
            "Shawshank Redemption, The (1994) -> 0.4622631072998047\n",
            "Pulp Fiction (1994) -> 0.38848093152046204\n",
            "Godfather, The (1972) -> 0.3879435062408447\n",
            "Matrix, The (1999) -> 0.363897442817688\n",
            "Star Wars: Episode V - The Empire Strikes Back (1980) -> 0.3619690537452698\n",
            "Terminator 2: Judgment Day (1991) -> 0.3266291916370392\n",
            "Star Wars: Episode IV - A New Hope (1977) -> 0.3153918981552124\n",
            "Silence of the Lambs, The (1991) -> 0.3139417767524719\n",
            "Lord of the Rings: The Fellowship of the Ring, The (2001) -> 0.30483436584472656\n",
            "Memento (2000) -> 0.3030233383178711\n"
          ],
          "name": "stdout"
        }
      ]
    },
    {
      "cell_type": "code",
      "metadata": {
        "id": "cgJCdkTn6g9Y",
        "colab_type": "code",
        "colab": {}
      },
      "source": [
        ""
      ],
      "execution_count": 0,
      "outputs": []
    }
  ]
}