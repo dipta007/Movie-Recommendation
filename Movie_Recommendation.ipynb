{
  "nbformat": 4,
  "nbformat_minor": 0,
  "metadata": {
    "colab": {
      "name": "Movie Recommendation.ipynb",
      "provenance": [],
      "collapsed_sections": [],
      "machine_shape": "hm",
      "authorship_tag": "ABX9TyOl2qBhG1XTzEZepiZlDs7S",
      "include_colab_link": true
    },
    "kernelspec": {
      "name": "python3",
      "display_name": "Python 3"
    },
    "accelerator": "TPU"
  },
  "cells": [
    {
      "cell_type": "markdown",
      "metadata": {
        "id": "view-in-github",
        "colab_type": "text"
      },
      "source": [
        "<a href=\"https://colab.research.google.com/github/dipta007/Movie-Recommendation/blob/multi-label-classification/Movie_Recommendation.ipynb\" target=\"_parent\"><img src=\"https://colab.research.google.com/assets/colab-badge.svg\" alt=\"Open In Colab\"/></a>"
      ]
    },
    {
      "cell_type": "code",
      "metadata": {
        "id": "9d4cawHq7Kmh",
        "colab_type": "code",
        "colab": {
          "base_uri": "https://localhost:8080/",
          "height": 109
        },
        "outputId": "9c681287-0c59-404f-91b7-c747a1e68ddb"
      },
      "source": [
        "from google.colab import drive\n",
        "from os.path import join\n",
        "import os\n",
        "\n",
        "ROOT = '/content/drive'     # default for the drive\n",
        "PROJ = 'My Drive/Colab_data/MR1'       # path to your project on Drive\n",
        "drive.mount(ROOT)           # we mount the drive at /content/drive\n",
        "\n",
        "PROJECT_PATH = join(ROOT, PROJ)\n",
        "!mkdir \"{PROJECT_PATH}\"    # in case we haven't created it already   \n",
        "%cd \"{PROJECT_PATH}\"\n",
        "%ls"
      ],
      "execution_count": 1,
      "outputs": [
        {
          "output_type": "stream",
          "text": [
            "Drive already mounted at /content/drive; to attempt to forcibly remount, call drive.mount(\"/content/drive\", force_remount=True).\n",
            "mkdir: cannot create directory ‘/content/drive/My Drive/Colab_data/MR1’: File exists\n",
            "/content/drive/My Drive/Colab_data/MR1\n",
            "\u001b[0m\u001b[01;34mdata\u001b[0m/  multilayer_perceptron_graph.png\n"
          ],
          "name": "stdout"
        }
      ]
    },
    {
      "cell_type": "code",
      "metadata": {
        "id": "a5hlO2lzffdL",
        "colab_type": "code",
        "colab": {
          "base_uri": "https://localhost:8080/",
          "height": 204
        },
        "outputId": "02e2cd89-1243-4323-a886-bc27de4de71a"
      },
      "source": [
        "%matplotlib inline\n",
        "import numpy as np\n",
        "import pandas as pd\n",
        "\n",
        "DATA_PATH = './data/ml-latest-small'\n",
        "\n",
        "ratings = pd.read_csv(f\"{DATA_PATH}/ratings.csv\")\n",
        "ratings.head()"
      ],
      "execution_count": 2,
      "outputs": [
        {
          "output_type": "execute_result",
          "data": {
            "text/html": [
              "<div>\n",
              "<style scoped>\n",
              "    .dataframe tbody tr th:only-of-type {\n",
              "        vertical-align: middle;\n",
              "    }\n",
              "\n",
              "    .dataframe tbody tr th {\n",
              "        vertical-align: top;\n",
              "    }\n",
              "\n",
              "    .dataframe thead th {\n",
              "        text-align: right;\n",
              "    }\n",
              "</style>\n",
              "<table border=\"1\" class=\"dataframe\">\n",
              "  <thead>\n",
              "    <tr style=\"text-align: right;\">\n",
              "      <th></th>\n",
              "      <th>userId</th>\n",
              "      <th>movieId</th>\n",
              "      <th>rating</th>\n",
              "      <th>timestamp</th>\n",
              "    </tr>\n",
              "  </thead>\n",
              "  <tbody>\n",
              "    <tr>\n",
              "      <th>0</th>\n",
              "      <td>1</td>\n",
              "      <td>1</td>\n",
              "      <td>4.0</td>\n",
              "      <td>964982703</td>\n",
              "    </tr>\n",
              "    <tr>\n",
              "      <th>1</th>\n",
              "      <td>1</td>\n",
              "      <td>3</td>\n",
              "      <td>4.0</td>\n",
              "      <td>964981247</td>\n",
              "    </tr>\n",
              "    <tr>\n",
              "      <th>2</th>\n",
              "      <td>1</td>\n",
              "      <td>6</td>\n",
              "      <td>4.0</td>\n",
              "      <td>964982224</td>\n",
              "    </tr>\n",
              "    <tr>\n",
              "      <th>3</th>\n",
              "      <td>1</td>\n",
              "      <td>47</td>\n",
              "      <td>5.0</td>\n",
              "      <td>964983815</td>\n",
              "    </tr>\n",
              "    <tr>\n",
              "      <th>4</th>\n",
              "      <td>1</td>\n",
              "      <td>50</td>\n",
              "      <td>5.0</td>\n",
              "      <td>964982931</td>\n",
              "    </tr>\n",
              "  </tbody>\n",
              "</table>\n",
              "</div>"
            ],
            "text/plain": [
              "   userId  movieId  rating  timestamp\n",
              "0       1        1     4.0  964982703\n",
              "1       1        3     4.0  964981247\n",
              "2       1        6     4.0  964982224\n",
              "3       1       47     5.0  964983815\n",
              "4       1       50     5.0  964982931"
            ]
          },
          "metadata": {
            "tags": []
          },
          "execution_count": 2
        }
      ]
    },
    {
      "cell_type": "code",
      "metadata": {
        "id": "LHYm6fVVgSiI",
        "colab_type": "code",
        "colab": {
          "base_uri": "https://localhost:8080/",
          "height": 204
        },
        "outputId": "7fc2c2f7-5008-48f7-d1b4-304dda9a65ca"
      },
      "source": [
        "movies = pd.read_csv(f\"{DATA_PATH}/movies.csv\")\n",
        "movies_ind_to_name = dict(zip(movies.movieId, movies.title))\n",
        "movies_name_to_ind = dict(zip(movies.title, movies.movieId))\n",
        "movies.head()"
      ],
      "execution_count": 3,
      "outputs": [
        {
          "output_type": "execute_result",
          "data": {
            "text/html": [
              "<div>\n",
              "<style scoped>\n",
              "    .dataframe tbody tr th:only-of-type {\n",
              "        vertical-align: middle;\n",
              "    }\n",
              "\n",
              "    .dataframe tbody tr th {\n",
              "        vertical-align: top;\n",
              "    }\n",
              "\n",
              "    .dataframe thead th {\n",
              "        text-align: right;\n",
              "    }\n",
              "</style>\n",
              "<table border=\"1\" class=\"dataframe\">\n",
              "  <thead>\n",
              "    <tr style=\"text-align: right;\">\n",
              "      <th></th>\n",
              "      <th>movieId</th>\n",
              "      <th>title</th>\n",
              "      <th>genres</th>\n",
              "    </tr>\n",
              "  </thead>\n",
              "  <tbody>\n",
              "    <tr>\n",
              "      <th>0</th>\n",
              "      <td>1</td>\n",
              "      <td>Toy Story (1995)</td>\n",
              "      <td>Adventure|Animation|Children|Comedy|Fantasy</td>\n",
              "    </tr>\n",
              "    <tr>\n",
              "      <th>1</th>\n",
              "      <td>2</td>\n",
              "      <td>Jumanji (1995)</td>\n",
              "      <td>Adventure|Children|Fantasy</td>\n",
              "    </tr>\n",
              "    <tr>\n",
              "      <th>2</th>\n",
              "      <td>3</td>\n",
              "      <td>Grumpier Old Men (1995)</td>\n",
              "      <td>Comedy|Romance</td>\n",
              "    </tr>\n",
              "    <tr>\n",
              "      <th>3</th>\n",
              "      <td>4</td>\n",
              "      <td>Waiting to Exhale (1995)</td>\n",
              "      <td>Comedy|Drama|Romance</td>\n",
              "    </tr>\n",
              "    <tr>\n",
              "      <th>4</th>\n",
              "      <td>5</td>\n",
              "      <td>Father of the Bride Part II (1995)</td>\n",
              "      <td>Comedy</td>\n",
              "    </tr>\n",
              "  </tbody>\n",
              "</table>\n",
              "</div>"
            ],
            "text/plain": [
              "   movieId  ...                                       genres\n",
              "0        1  ...  Adventure|Animation|Children|Comedy|Fantasy\n",
              "1        2  ...                   Adventure|Children|Fantasy\n",
              "2        3  ...                               Comedy|Romance\n",
              "3        4  ...                         Comedy|Drama|Romance\n",
              "4        5  ...                                       Comedy\n",
              "\n",
              "[5 rows x 3 columns]"
            ]
          },
          "metadata": {
            "tags": []
          },
          "execution_count": 3
        }
      ]
    },
    {
      "cell_type": "code",
      "metadata": {
        "id": "6Gg3PYmygs2X",
        "colab_type": "code",
        "colab": {
          "base_uri": "https://localhost:8080/",
          "height": 35
        },
        "outputId": "87aaba57-86f3-48f9-f592-0299aee744a8"
      },
      "source": [
        "from sklearn.model_selection import train_test_split\n",
        "from sklearn.preprocessing import LabelEncoder, MinMaxScaler\n",
        "\n",
        "user_enc = LabelEncoder()\n",
        "ratings['user'] = user_enc.fit_transform(ratings['userId'].values)\n",
        "n_users = ratings['user'].nunique()\n",
        "\n",
        "movie_enc = LabelEncoder()\n",
        "movie_enc.fit(movies['movieId'])\n",
        "ratings['movie'] = movie_enc.transform(ratings['movieId'].values)\n",
        "n_movies = movies['movieId'].nunique()\n",
        "\n",
        "ratings['rating'] = ratings['rating'].values.astype(np.float32)\n",
        "min_rating = min(ratings['rating'])\n",
        "max_rating = max(ratings['rating'])\n",
        "\n",
        "# n_users, n_movies, min_rating, max_rating\n",
        "# del ratings['timestamp']\n",
        "ratings.head()\n",
        "ratings.shape"
      ],
      "execution_count": 10,
      "outputs": [
        {
          "output_type": "execute_result",
          "data": {
            "text/plain": [
              "(100836, 6)"
            ]
          },
          "metadata": {
            "tags": []
          },
          "execution_count": 10
        }
      ]
    },
    {
      "cell_type": "code",
      "metadata": {
        "id": "hUSxVAQtBxuC",
        "colab_type": "code",
        "colab": {
          "base_uri": "https://localhost:8080/",
          "height": 35
        },
        "outputId": "973d571a-ee35-4a09-92e5-bb28c1fdb5c5"
      },
      "source": [
        "n_users, n_movies"
      ],
      "execution_count": 19,
      "outputs": [
        {
          "output_type": "execute_result",
          "data": {
            "text/plain": [
              "(610, 9742)"
            ]
          },
          "metadata": {
            "tags": []
          },
          "execution_count": 19
        }
      ]
    },
    {
      "cell_type": "code",
      "metadata": {
        "id": "Odwkj1fiX2Vy",
        "colab_type": "code",
        "colab": {
          "base_uri": "https://localhost:8080/",
          "height": 35
        },
        "outputId": "a568d3f0-d6ec-4ea6-cd27-fd3838839ecb"
      },
      "source": [
        "# Delete all the rows with less ratings\n",
        "indexes = ratings[ ratings.rating < 3.5 ].index\n",
        "nratings = ratings.drop(indexes)\n",
        "nratings.shape"
      ],
      "execution_count": 11,
      "outputs": [
        {
          "output_type": "execute_result",
          "data": {
            "text/plain": [
              "(61716, 6)"
            ]
          },
          "metadata": {
            "tags": []
          },
          "execution_count": 11
        }
      ]
    },
    {
      "cell_type": "code",
      "metadata": {
        "id": "mmxdVJmr4LqF",
        "colab_type": "code",
        "colab": {}
      },
      "source": [
        "user_movie_count = [0 for _ in range(n_users)]\n",
        "user_movie = {}\n",
        "for index, row in nratings.iterrows():\n",
        "  now = int(row.user)\n",
        "  user_movie_count[now] += 1\n",
        "  if now not in user_movie:\n",
        "    user_movie[now] = []\n",
        "  user_movie[now].append(row.movie)\n",
        "\n",
        "MIN_NUMBER_OF_MOVIES = 4"
      ],
      "execution_count": 0,
      "outputs": []
    },
    {
      "cell_type": "code",
      "metadata": {
        "id": "dk-eDjqj5WGY",
        "colab_type": "code",
        "colab": {
          "base_uri": "https://localhost:8080/",
          "height": 35
        },
        "outputId": "192665f5-aa8d-4479-b329-564b8de02f0f"
      },
      "source": [
        "MIN_NUMBER_OF_MOVIES, n_users, n_movies, min_rating, max_rating"
      ],
      "execution_count": 13,
      "outputs": [
        {
          "output_type": "execute_result",
          "data": {
            "text/plain": [
              "(4, 610, 9742, 0.5, 5.0)"
            ]
          },
          "metadata": {
            "tags": []
          },
          "execution_count": 13
        }
      ]
    },
    {
      "cell_type": "code",
      "metadata": {
        "id": "Qe3J9WLL7xwM",
        "colab_type": "code",
        "colab": {}
      },
      "source": [
        "def convert_to_one_hot(movies):\n",
        "  now = [0 for _ in range(n_movies)]\n",
        "  for movie in movies:\n",
        "    now[int(movie)] = 1.0\n",
        "  return now\n",
        "\n",
        "prev_movies = []\n",
        "next_movies = []\n",
        "for user in range(n_users):\n",
        "  if user not in user_movie:\n",
        "    continue\n",
        "  for i in range(len(user_movie[user]) - MIN_NUMBER_OF_MOVIES):\n",
        "    now_movies = user_movie[user]\n",
        "    \n",
        "    # Previous movies he has saw already\n",
        "    prev_movies.append(now_movies[i:i+MIN_NUMBER_OF_MOVIES]);\n",
        "\n",
        "    # Next movies he should see\n",
        "    next_movies.append(convert_to_one_hot(now_movies[i+MIN_NUMBER_OF_MOVIES:]));\n"
      ],
      "execution_count": 0,
      "outputs": []
    },
    {
      "cell_type": "code",
      "metadata": {
        "id": "QBNpeNrnCMu8",
        "colab_type": "code",
        "colab": {
          "base_uri": "https://localhost:8080/",
          "height": 35
        },
        "outputId": "f0f13b99-676c-4dd2-de04-38384abb5f00"
      },
      "source": [
        "len(prev_movies), len(next_movies)"
      ],
      "execution_count": 15,
      "outputs": [
        {
          "output_type": "execute_result",
          "data": {
            "text/plain": [
              "(59286, 59286)"
            ]
          },
          "metadata": {
            "tags": []
          },
          "execution_count": 15
        }
      ]
    },
    {
      "cell_type": "code",
      "metadata": {
        "id": "N9IeqRI8vAKZ",
        "colab_type": "code",
        "colab": {
          "base_uri": "https://localhost:8080/",
          "height": 35
        },
        "outputId": "d605f9d4-ef80-4a84-bbc9-bbe3ed7860b3"
      },
      "source": [
        "X = np.array(prev_movies).reshape(len(prev_movies), 4, 1)\n",
        "Y = np.array(next_movies)\n",
        "X.shape, Y.shape"
      ],
      "execution_count": 16,
      "outputs": [
        {
          "output_type": "execute_result",
          "data": {
            "text/plain": [
              "((59286, 4, 1), (59286, 9742))"
            ]
          },
          "metadata": {
            "tags": []
          },
          "execution_count": 16
        }
      ]
    },
    {
      "cell_type": "code",
      "metadata": {
        "id": "EOTjbvjM0arq",
        "colab_type": "code",
        "colab": {}
      },
      "source": [
        "X_train, X_test, y_train, y_test = train_test_split(X, Y, test_size=0.2, random_state=47)"
      ],
      "execution_count": 0,
      "outputs": []
    },
    {
      "cell_type": "code",
      "metadata": {
        "id": "3e_hSEElvWqB",
        "colab_type": "code",
        "colab": {
          "base_uri": "https://localhost:8080/",
          "height": 35
        },
        "outputId": "1b2bdfd8-d81f-4492-8465-a83e22f8d652"
      },
      "source": [
        "X_train.shape, X_test.shape, y_train.shape, y_test.shape"
      ],
      "execution_count": 18,
      "outputs": [
        {
          "output_type": "execute_result",
          "data": {
            "text/plain": [
              "((47428, 4, 1), (11858, 4, 1), (47428, 9742), (11858, 9742))"
            ]
          },
          "metadata": {
            "tags": []
          },
          "execution_count": 18
        }
      ]
    },
    {
      "cell_type": "code",
      "metadata": {
        "id": "6je57NnvCXjh",
        "colab_type": "code",
        "colab": {
          "base_uri": "https://localhost:8080/",
          "height": 35
        },
        "outputId": "d8f72d3c-53da-4a10-a9ca-0a1b871b7a25"
      },
      "source": [
        "from keras.models import Model\n",
        "from keras.layers import Input, Reshape, Dot\n",
        "from keras.layers.embeddings import Embedding\n",
        "from keras.optimizers import Adam, RMSprop\n",
        "from keras.regularizers import l2\n",
        "from keras.layers import Concatenate, Dense, Dropout, Activation, Lambda, LSTM\n",
        "\n",
        "def Model1(n_users, n_movies):\n",
        "  input1 = Input(shape=(MIN_NUMBER_OF_MOVIES, 1,))\n",
        "  x = LSTM(128)(input1)\n",
        "  x = Dense(1000)(x)\n",
        "  x = Dense(n_movies)(x)\n",
        "  x = Activation('sigmoid')(x)\n",
        "\n",
        "  model = Model(inputs=input1, outputs=x)\n",
        "  # rms = RMSprop(lr=0.001)\n",
        "  model.compile(loss='binary_crossentropy', optimizer='adam', metrics=['accuracy'])  \n",
        "  # model.compile(loss='mean_squared_error', optimizer=rms, metrics=['accuracy'])\n",
        "  return model"
      ],
      "execution_count": 20,
      "outputs": [
        {
          "output_type": "stream",
          "text": [
            "Using TensorFlow backend.\n"
          ],
          "name": "stderr"
        }
      ]
    },
    {
      "cell_type": "code",
      "metadata": {
        "id": "2RIX_ozgE-ec",
        "colab_type": "code",
        "colab": {
          "base_uri": "https://localhost:8080/",
          "height": 341
        },
        "outputId": "f51594ba-f4bf-44a7-a2b8-4ad8f7754885"
      },
      "source": [
        "model = Model1(n_users, n_movies)\n",
        "model.summary()\n",
        "\n",
        "# from keras.utils import plot_model\n",
        "# plot_model(model, to_file='multilayer_perceptron_graph.png')"
      ],
      "execution_count": 21,
      "outputs": [
        {
          "output_type": "stream",
          "text": [
            "Model: \"model_1\"\n",
            "_________________________________________________________________\n",
            "Layer (type)                 Output Shape              Param #   \n",
            "=================================================================\n",
            "input_1 (InputLayer)         (None, 4, 1)              0         \n",
            "_________________________________________________________________\n",
            "lstm_1 (LSTM)                (None, 128)               66560     \n",
            "_________________________________________________________________\n",
            "dense_1 (Dense)              (None, 1000)              129000    \n",
            "_________________________________________________________________\n",
            "dense_2 (Dense)              (None, 9742)              9751742   \n",
            "_________________________________________________________________\n",
            "activation_1 (Activation)    (None, 9742)              0         \n",
            "=================================================================\n",
            "Total params: 9,947,302\n",
            "Trainable params: 9,947,302\n",
            "Non-trainable params: 0\n",
            "_________________________________________________________________\n"
          ],
          "name": "stdout"
        }
      ]
    },
    {
      "cell_type": "code",
      "metadata": {
        "id": "fdeKR53oIMBS",
        "colab_type": "code",
        "colab": {
          "base_uri": "https://localhost:8080/",
          "height": 235
        },
        "outputId": "13178e7f-3c43-4021-b363-f78621c81fc6"
      },
      "source": [
        "history = model.fit(x=X, y=Y, batch_size=64, epochs=5, verbose=1, \n",
        "                    validation_data=(X_test, y_test))"
      ],
      "execution_count": 22,
      "outputs": [
        {
          "output_type": "stream",
          "text": [
            "Train on 59286 samples, validate on 11858 samples\n",
            "Epoch 1/5\n",
            "59286/59286 [==============================] - 42s 709us/step - loss: 0.0690 - accuracy: 0.9825 - val_loss: 0.0639 - val_accuracy: 0.9829\n",
            "Epoch 2/5\n",
            "59286/59286 [==============================] - 41s 691us/step - loss: 0.0627 - accuracy: 0.9830 - val_loss: 0.0629 - val_accuracy: 0.9829\n",
            "Epoch 3/5\n",
            "59286/59286 [==============================] - 42s 714us/step - loss: 0.0621 - accuracy: 0.9830 - val_loss: 0.0622 - val_accuracy: 0.9829\n",
            "Epoch 4/5\n",
            "59286/59286 [==============================] - 42s 710us/step - loss: 0.0616 - accuracy: 0.9831 - val_loss: 0.0616 - val_accuracy: 0.9829\n",
            "Epoch 5/5\n",
            "59286/59286 [==============================] - 42s 711us/step - loss: 0.0615 - accuracy: 0.9831 - val_loss: 0.0634 - val_accuracy: 0.9829\n"
          ],
          "name": "stdout"
        }
      ]
    },
    {
      "cell_type": "code",
      "metadata": {
        "id": "2egXkaB4tOo_",
        "colab_type": "code",
        "colab": {}
      },
      "source": [
        "def get_result(movie_no, n = 10):\n",
        "  nolan = movie_enc.transform([109487, 33794, 33794, 74458])\n",
        "  pred = model.predict(nolan.reshape(1, 4, 1))[0]\n",
        "  res = []\n",
        "  for (ind, pred) in enumerate(pred):\n",
        "      res.append((ind, pred))\n",
        "\n",
        "  res.sort(key=lambda x: x[1], reverse=True)\n",
        "  res = [(movie_enc.inverse_transform([id])[0], pred) for (id, pred) in res]\n",
        "  for (movieId, pred) in res[0:n]:\n",
        "    print(f\"{movies_ind_to_name[movieId]} -> {pred}\")\n",
        "  return None"
      ],
      "execution_count": 0,
      "outputs": []
    },
    {
      "cell_type": "code",
      "metadata": {
        "id": "JwS11I_48jPv",
        "colab_type": "code",
        "colab": {
          "base_uri": "https://localhost:8080/",
          "height": 89
        },
        "outputId": "de5c1966-fa8e-43a8-e7f8-d402cc9f3184"
      },
      "source": [
        "get_result([109487, 33794, 33794, 74458], 4)"
      ],
      "execution_count": 37,
      "outputs": [
        {
          "output_type": "stream",
          "text": [
            "Inception (2010) -> 0.48378628492355347\n",
            "Django Unchained (2012) -> 0.45947539806365967\n",
            "Guardians of the Galaxy (2014) -> 0.4578720033168793\n",
            "The Martian (2015) -> 0.4250876009464264\n"
          ],
          "name": "stdout"
        }
      ]
    },
    {
      "cell_type": "code",
      "metadata": {
        "id": "sBHmee-WIkBV",
        "colab_type": "code",
        "colab": {}
      },
      "source": [
        ""
      ],
      "execution_count": 0,
      "outputs": []
    },
    {
      "cell_type": "code",
      "metadata": {
        "id": "85u0V0q26Q-q",
        "colab_type": "code",
        "colab": {}
      },
      "source": [
        "for thresh in [0.4, 0.3]:\n",
        "  res = get_result(pred[0], thresh)\n",
        "  print(len(res))\n",
        "  print(res)"
      ],
      "execution_count": 0,
      "outputs": []
    },
    {
      "cell_type": "code",
      "metadata": {
        "id": "V0sOmsBQIjvg",
        "colab_type": "code",
        "colab": {}
      },
      "source": [
        "movie_enc.inverse_transform([7355, 8045, 8457, 8528, 8618, 8663, 8668, 8882])"
      ],
      "execution_count": 0,
      "outputs": []
    },
    {
      "cell_type": "code",
      "metadata": {
        "id": "cgJCdkTn6g9Y",
        "colab_type": "code",
        "colab": {}
      },
      "source": [
        ""
      ],
      "execution_count": 0,
      "outputs": []
    }
  ]
}