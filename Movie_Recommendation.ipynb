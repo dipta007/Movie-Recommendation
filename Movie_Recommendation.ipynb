{
  "nbformat": 4,
  "nbformat_minor": 0,
  "metadata": {
    "colab": {
      "name": "Movie Recommendation.ipynb",
      "provenance": [],
      "collapsed_sections": [],
      "toc_visible": true,
      "machine_shape": "hm",
      "include_colab_link": true
    },
    "kernelspec": {
      "name": "python3",
      "display_name": "Python 3"
    },
    "accelerator": "TPU"
  },
  "cells": [
    {
      "cell_type": "markdown",
      "metadata": {
        "id": "view-in-github",
        "colab_type": "text"
      },
      "source": [
        "<a href=\"https://colab.research.google.com/github/dipta007/Movie-Recommendation/blob/master/Movie_Recommendation.ipynb\" target=\"_parent\"><img src=\"https://colab.research.google.com/assets/colab-badge.svg\" alt=\"Open In Colab\"/></a>"
      ]
    },
    {
      "cell_type": "markdown",
      "metadata": {
        "id": "p1FgISZg-Mrf",
        "colab_type": "text"
      },
      "source": [
        "# Mount the Google Drive\n",
        "```\n",
        "ROOT = default location for colab  \n",
        "PROJ = Project location (Need to create manually)  \n",
        "PROJECT_PATH = Project path for later user\n",
        "DATA_PATH = Data storage in gdrive\n",
        "```"
      ]
    },
    {
      "cell_type": "code",
      "metadata": {
        "id": "9d4cawHq7Kmh",
        "colab_type": "code",
        "outputId": "b17706c8-41d6-4f1d-8ad2-74a5e444ed1e",
        "colab": {
          "base_uri": "https://localhost:8080/",
          "height": 91
        }
      },
      "source": [
        "from google.colab import drive\n",
        "from os.path import join\n",
        "import os\n",
        "\n",
        "ROOT = '/content/drive'     # default for the drive\n",
        "PROJ = 'My Drive/Colab_data/MR1'       # path to your project on Drive\n",
        "drive.mount(ROOT)           # we mount the drive at /content/drive\n",
        "\n",
        "PROJECT_PATH = join(ROOT, PROJ)\n",
        "!mkdir -p \"{PROJECT_PATH}\"    # in case we haven't created it already   \n",
        "%cd \"{PROJECT_PATH}\"\n",
        "%ls\n",
        "\n",
        "DATA_PATH = './data/ml-latest-small'"
      ],
      "execution_count": 6,
      "outputs": [
        {
          "output_type": "stream",
          "text": [
            "Drive already mounted at /content/drive; to attempt to forcibly remount, call drive.mount(\"/content/drive\", force_remount=True).\n",
            "/content/drive/My Drive/Colab_data/MR1\n",
            "\u001b[0m\u001b[01;34mdata\u001b[0m/  final-1  model  model-multi-label  multilayer_perceptron_graph.png\n"
          ],
          "name": "stdout"
        }
      ]
    },
    {
      "cell_type": "markdown",
      "metadata": {
        "id": "iX3rKmeZGDHj",
        "colab_type": "text"
      },
      "source": [
        "# Data Collection"
      ]
    },
    {
      "cell_type": "markdown",
      "metadata": {
        "id": "nzCKR77BKGoB",
        "colab_type": "text"
      },
      "source": [
        "## Get the ratings"
      ]
    },
    {
      "cell_type": "code",
      "metadata": {
        "id": "a5hlO2lzffdL",
        "colab_type": "code",
        "outputId": "d1384a8f-9d8b-4c56-c4c2-92afa1a82d13",
        "colab": {
          "base_uri": "https://localhost:8080/",
          "height": 204
        }
      },
      "source": [
        "import numpy as np\n",
        "import pandas as pd\n",
        "\n",
        "ratings = pd.read_csv(f\"{DATA_PATH}/ratings.csv\")\n",
        "ratings.head()"
      ],
      "execution_count": 7,
      "outputs": [
        {
          "output_type": "execute_result",
          "data": {
            "text/html": [
              "<div>\n",
              "<style scoped>\n",
              "    .dataframe tbody tr th:only-of-type {\n",
              "        vertical-align: middle;\n",
              "    }\n",
              "\n",
              "    .dataframe tbody tr th {\n",
              "        vertical-align: top;\n",
              "    }\n",
              "\n",
              "    .dataframe thead th {\n",
              "        text-align: right;\n",
              "    }\n",
              "</style>\n",
              "<table border=\"1\" class=\"dataframe\">\n",
              "  <thead>\n",
              "    <tr style=\"text-align: right;\">\n",
              "      <th></th>\n",
              "      <th>userId</th>\n",
              "      <th>movieId</th>\n",
              "      <th>rating</th>\n",
              "      <th>timestamp</th>\n",
              "    </tr>\n",
              "  </thead>\n",
              "  <tbody>\n",
              "    <tr>\n",
              "      <th>0</th>\n",
              "      <td>1</td>\n",
              "      <td>1</td>\n",
              "      <td>4.0</td>\n",
              "      <td>964982703</td>\n",
              "    </tr>\n",
              "    <tr>\n",
              "      <th>1</th>\n",
              "      <td>1</td>\n",
              "      <td>3</td>\n",
              "      <td>4.0</td>\n",
              "      <td>964981247</td>\n",
              "    </tr>\n",
              "    <tr>\n",
              "      <th>2</th>\n",
              "      <td>1</td>\n",
              "      <td>6</td>\n",
              "      <td>4.0</td>\n",
              "      <td>964982224</td>\n",
              "    </tr>\n",
              "    <tr>\n",
              "      <th>3</th>\n",
              "      <td>1</td>\n",
              "      <td>47</td>\n",
              "      <td>5.0</td>\n",
              "      <td>964983815</td>\n",
              "    </tr>\n",
              "    <tr>\n",
              "      <th>4</th>\n",
              "      <td>1</td>\n",
              "      <td>50</td>\n",
              "      <td>5.0</td>\n",
              "      <td>964982931</td>\n",
              "    </tr>\n",
              "  </tbody>\n",
              "</table>\n",
              "</div>"
            ],
            "text/plain": [
              "   userId  movieId  rating  timestamp\n",
              "0       1        1     4.0  964982703\n",
              "1       1        3     4.0  964981247\n",
              "2       1        6     4.0  964982224\n",
              "3       1       47     5.0  964983815\n",
              "4       1       50     5.0  964982931"
            ]
          },
          "metadata": {
            "tags": []
          },
          "execution_count": 7
        }
      ]
    },
    {
      "cell_type": "markdown",
      "metadata": {
        "id": "2lgqFEROKKUA",
        "colab_type": "text"
      },
      "source": [
        "## Get all the movies and their mapping\n",
        "```\n",
        "movies_ind_to_name = Movie index to name mapping\n",
        "movies_name_to_ind = Movie name to index mapping\n",
        "movies_ind_to_genre = Movie index to genres mapping\n",
        "```"
      ]
    },
    {
      "cell_type": "code",
      "metadata": {
        "id": "LHYm6fVVgSiI",
        "colab_type": "code",
        "outputId": "4ece57c8-76b3-4207-80b6-e6fb216f9773",
        "colab": {
          "base_uri": "https://localhost:8080/",
          "height": 204
        }
      },
      "source": [
        "movies = pd.read_csv(f\"{DATA_PATH}/movies.csv\")\n",
        "movies_ind_to_name = dict(zip(movies.movieId, movies.title))\n",
        "movies_name_to_ind = dict(zip(movies.title, movies.movieId))\n",
        "movies_ind_to_genre = dict(zip(movies.movieId, movies.genres))\n",
        "movies.head()"
      ],
      "execution_count": 8,
      "outputs": [
        {
          "output_type": "execute_result",
          "data": {
            "text/html": [
              "<div>\n",
              "<style scoped>\n",
              "    .dataframe tbody tr th:only-of-type {\n",
              "        vertical-align: middle;\n",
              "    }\n",
              "\n",
              "    .dataframe tbody tr th {\n",
              "        vertical-align: top;\n",
              "    }\n",
              "\n",
              "    .dataframe thead th {\n",
              "        text-align: right;\n",
              "    }\n",
              "</style>\n",
              "<table border=\"1\" class=\"dataframe\">\n",
              "  <thead>\n",
              "    <tr style=\"text-align: right;\">\n",
              "      <th></th>\n",
              "      <th>movieId</th>\n",
              "      <th>title</th>\n",
              "      <th>genres</th>\n",
              "    </tr>\n",
              "  </thead>\n",
              "  <tbody>\n",
              "    <tr>\n",
              "      <th>0</th>\n",
              "      <td>1</td>\n",
              "      <td>Toy Story (1995)</td>\n",
              "      <td>Adventure|Animation|Children|Comedy|Fantasy</td>\n",
              "    </tr>\n",
              "    <tr>\n",
              "      <th>1</th>\n",
              "      <td>2</td>\n",
              "      <td>Jumanji (1995)</td>\n",
              "      <td>Adventure|Children|Fantasy</td>\n",
              "    </tr>\n",
              "    <tr>\n",
              "      <th>2</th>\n",
              "      <td>3</td>\n",
              "      <td>Grumpier Old Men (1995)</td>\n",
              "      <td>Comedy|Romance</td>\n",
              "    </tr>\n",
              "    <tr>\n",
              "      <th>3</th>\n",
              "      <td>4</td>\n",
              "      <td>Waiting to Exhale (1995)</td>\n",
              "      <td>Comedy|Drama|Romance</td>\n",
              "    </tr>\n",
              "    <tr>\n",
              "      <th>4</th>\n",
              "      <td>5</td>\n",
              "      <td>Father of the Bride Part II (1995)</td>\n",
              "      <td>Comedy</td>\n",
              "    </tr>\n",
              "  </tbody>\n",
              "</table>\n",
              "</div>"
            ],
            "text/plain": [
              "   movieId  ...                                       genres\n",
              "0        1  ...  Adventure|Animation|Children|Comedy|Fantasy\n",
              "1        2  ...                   Adventure|Children|Fantasy\n",
              "2        3  ...                               Comedy|Romance\n",
              "3        4  ...                         Comedy|Drama|Romance\n",
              "4        5  ...                                       Comedy\n",
              "\n",
              "[5 rows x 3 columns]"
            ]
          },
          "metadata": {
            "tags": []
          },
          "execution_count": 8
        }
      ]
    },
    {
      "cell_type": "markdown",
      "metadata": {
        "id": "rzLe_-CIKNo1",
        "colab_type": "text"
      },
      "source": [
        "## Get all the Genres"
      ]
    },
    {
      "cell_type": "markdown",
      "metadata": {
        "id": "EIiI9GDnDFs3",
        "colab_type": "text"
      },
      "source": [
        "#### Make all genre list same length as the maximum one"
      ]
    },
    {
      "cell_type": "code",
      "metadata": {
        "id": "UuRXNkkLH8CQ",
        "colab_type": "code",
        "colab": {}
      },
      "source": [
        "maxLen = max(movies['genres'].apply(lambda x: len(x.split('|'))))\n",
        "\n",
        "def make_all_same(x):\n",
        "  now = x.split(\"|\")\n",
        "  while len(now) < maxLen:\n",
        "    now.append(\"\")\n",
        "  return now\n",
        "\n",
        "movies['genres_list'] = movies['genres'].apply(make_all_same)"
      ],
      "execution_count": 0,
      "outputs": []
    },
    {
      "cell_type": "markdown",
      "metadata": {
        "id": "l5n8A67FDK84",
        "colab_type": "text"
      },
      "source": [
        "#### Find out the unique genres"
      ]
    },
    {
      "cell_type": "code",
      "metadata": {
        "id": "Ok4P3DhtJbLs",
        "colab_type": "code",
        "outputId": "67497271-c293-40d0-e03a-daf7b3d7832e",
        "colab": {
          "base_uri": "https://localhost:8080/",
          "height": 35
        }
      },
      "source": [
        "s = set()\n",
        "for v in movies['genres_list'].values:\n",
        "  for g in v:\n",
        "    s.add(g)\n",
        "\n",
        "n_genres = len(s)\n",
        "n_genres"
      ],
      "execution_count": 10,
      "outputs": [
        {
          "output_type": "execute_result",
          "data": {
            "text/plain": [
              "21"
            ]
          },
          "metadata": {
            "tags": []
          },
          "execution_count": 10
        }
      ]
    },
    {
      "cell_type": "markdown",
      "metadata": {
        "id": "sGKo-vI3DSmZ",
        "colab_type": "text"
      },
      "source": [
        "#### Merge genres table to ratings table"
      ]
    },
    {
      "cell_type": "code",
      "metadata": {
        "id": "XoynKTJXKsbl",
        "colab_type": "code",
        "outputId": "378d1032-f6ce-48df-e016-14d5ec3076ec",
        "colab": {
          "base_uri": "https://localhost:8080/",
          "height": 289
        }
      },
      "source": [
        "ratings = pd.merge(ratings, movies, \"inner\", \"movieId\")\n",
        "ratings.head()"
      ],
      "execution_count": 11,
      "outputs": [
        {
          "output_type": "execute_result",
          "data": {
            "text/html": [
              "<div>\n",
              "<style scoped>\n",
              "    .dataframe tbody tr th:only-of-type {\n",
              "        vertical-align: middle;\n",
              "    }\n",
              "\n",
              "    .dataframe tbody tr th {\n",
              "        vertical-align: top;\n",
              "    }\n",
              "\n",
              "    .dataframe thead th {\n",
              "        text-align: right;\n",
              "    }\n",
              "</style>\n",
              "<table border=\"1\" class=\"dataframe\">\n",
              "  <thead>\n",
              "    <tr style=\"text-align: right;\">\n",
              "      <th></th>\n",
              "      <th>userId</th>\n",
              "      <th>movieId</th>\n",
              "      <th>rating</th>\n",
              "      <th>timestamp</th>\n",
              "      <th>title</th>\n",
              "      <th>genres</th>\n",
              "      <th>genres_list</th>\n",
              "    </tr>\n",
              "  </thead>\n",
              "  <tbody>\n",
              "    <tr>\n",
              "      <th>0</th>\n",
              "      <td>1</td>\n",
              "      <td>1</td>\n",
              "      <td>4.0</td>\n",
              "      <td>964982703</td>\n",
              "      <td>Toy Story (1995)</td>\n",
              "      <td>Adventure|Animation|Children|Comedy|Fantasy</td>\n",
              "      <td>[Adventure, Animation, Children, Comedy, Fanta...</td>\n",
              "    </tr>\n",
              "    <tr>\n",
              "      <th>1</th>\n",
              "      <td>5</td>\n",
              "      <td>1</td>\n",
              "      <td>4.0</td>\n",
              "      <td>847434962</td>\n",
              "      <td>Toy Story (1995)</td>\n",
              "      <td>Adventure|Animation|Children|Comedy|Fantasy</td>\n",
              "      <td>[Adventure, Animation, Children, Comedy, Fanta...</td>\n",
              "    </tr>\n",
              "    <tr>\n",
              "      <th>2</th>\n",
              "      <td>7</td>\n",
              "      <td>1</td>\n",
              "      <td>4.5</td>\n",
              "      <td>1106635946</td>\n",
              "      <td>Toy Story (1995)</td>\n",
              "      <td>Adventure|Animation|Children|Comedy|Fantasy</td>\n",
              "      <td>[Adventure, Animation, Children, Comedy, Fanta...</td>\n",
              "    </tr>\n",
              "    <tr>\n",
              "      <th>3</th>\n",
              "      <td>15</td>\n",
              "      <td>1</td>\n",
              "      <td>2.5</td>\n",
              "      <td>1510577970</td>\n",
              "      <td>Toy Story (1995)</td>\n",
              "      <td>Adventure|Animation|Children|Comedy|Fantasy</td>\n",
              "      <td>[Adventure, Animation, Children, Comedy, Fanta...</td>\n",
              "    </tr>\n",
              "    <tr>\n",
              "      <th>4</th>\n",
              "      <td>17</td>\n",
              "      <td>1</td>\n",
              "      <td>4.5</td>\n",
              "      <td>1305696483</td>\n",
              "      <td>Toy Story (1995)</td>\n",
              "      <td>Adventure|Animation|Children|Comedy|Fantasy</td>\n",
              "      <td>[Adventure, Animation, Children, Comedy, Fanta...</td>\n",
              "    </tr>\n",
              "  </tbody>\n",
              "</table>\n",
              "</div>"
            ],
            "text/plain": [
              "   userId  ...                                        genres_list\n",
              "0       1  ...  [Adventure, Animation, Children, Comedy, Fanta...\n",
              "1       5  ...  [Adventure, Animation, Children, Comedy, Fanta...\n",
              "2       7  ...  [Adventure, Animation, Children, Comedy, Fanta...\n",
              "3      15  ...  [Adventure, Animation, Children, Comedy, Fanta...\n",
              "4      17  ...  [Adventure, Animation, Children, Comedy, Fanta...\n",
              "\n",
              "[5 rows x 7 columns]"
            ]
          },
          "metadata": {
            "tags": []
          },
          "execution_count": 11
        }
      ]
    },
    {
      "cell_type": "markdown",
      "metadata": {
        "id": "BinfmnzYDeO1",
        "colab_type": "text"
      },
      "source": [
        "## Drop unnecessary columns"
      ]
    },
    {
      "cell_type": "code",
      "metadata": {
        "id": "jY1jwJnc1NBa",
        "colab_type": "code",
        "outputId": "b969121b-6e63-4f84-f639-5884490845d4",
        "colab": {
          "base_uri": "https://localhost:8080/",
          "height": 204
        }
      },
      "source": [
        "ratings = ratings.drop(['title', 'genres'], axis=1)\n",
        "ratings.head()"
      ],
      "execution_count": 12,
      "outputs": [
        {
          "output_type": "execute_result",
          "data": {
            "text/html": [
              "<div>\n",
              "<style scoped>\n",
              "    .dataframe tbody tr th:only-of-type {\n",
              "        vertical-align: middle;\n",
              "    }\n",
              "\n",
              "    .dataframe tbody tr th {\n",
              "        vertical-align: top;\n",
              "    }\n",
              "\n",
              "    .dataframe thead th {\n",
              "        text-align: right;\n",
              "    }\n",
              "</style>\n",
              "<table border=\"1\" class=\"dataframe\">\n",
              "  <thead>\n",
              "    <tr style=\"text-align: right;\">\n",
              "      <th></th>\n",
              "      <th>userId</th>\n",
              "      <th>movieId</th>\n",
              "      <th>rating</th>\n",
              "      <th>timestamp</th>\n",
              "      <th>genres_list</th>\n",
              "    </tr>\n",
              "  </thead>\n",
              "  <tbody>\n",
              "    <tr>\n",
              "      <th>0</th>\n",
              "      <td>1</td>\n",
              "      <td>1</td>\n",
              "      <td>4.0</td>\n",
              "      <td>964982703</td>\n",
              "      <td>[Adventure, Animation, Children, Comedy, Fanta...</td>\n",
              "    </tr>\n",
              "    <tr>\n",
              "      <th>1</th>\n",
              "      <td>5</td>\n",
              "      <td>1</td>\n",
              "      <td>4.0</td>\n",
              "      <td>847434962</td>\n",
              "      <td>[Adventure, Animation, Children, Comedy, Fanta...</td>\n",
              "    </tr>\n",
              "    <tr>\n",
              "      <th>2</th>\n",
              "      <td>7</td>\n",
              "      <td>1</td>\n",
              "      <td>4.5</td>\n",
              "      <td>1106635946</td>\n",
              "      <td>[Adventure, Animation, Children, Comedy, Fanta...</td>\n",
              "    </tr>\n",
              "    <tr>\n",
              "      <th>3</th>\n",
              "      <td>15</td>\n",
              "      <td>1</td>\n",
              "      <td>2.5</td>\n",
              "      <td>1510577970</td>\n",
              "      <td>[Adventure, Animation, Children, Comedy, Fanta...</td>\n",
              "    </tr>\n",
              "    <tr>\n",
              "      <th>4</th>\n",
              "      <td>17</td>\n",
              "      <td>1</td>\n",
              "      <td>4.5</td>\n",
              "      <td>1305696483</td>\n",
              "      <td>[Adventure, Animation, Children, Comedy, Fanta...</td>\n",
              "    </tr>\n",
              "  </tbody>\n",
              "</table>\n",
              "</div>"
            ],
            "text/plain": [
              "   userId  ...                                        genres_list\n",
              "0       1  ...  [Adventure, Animation, Children, Comedy, Fanta...\n",
              "1       5  ...  [Adventure, Animation, Children, Comedy, Fanta...\n",
              "2       7  ...  [Adventure, Animation, Children, Comedy, Fanta...\n",
              "3      15  ...  [Adventure, Animation, Children, Comedy, Fanta...\n",
              "4      17  ...  [Adventure, Animation, Children, Comedy, Fanta...\n",
              "\n",
              "[5 rows x 5 columns]"
            ]
          },
          "metadata": {
            "tags": []
          },
          "execution_count": 12
        }
      ]
    },
    {
      "cell_type": "markdown",
      "metadata": {
        "id": "8MxyyPE2DkqZ",
        "colab_type": "text"
      },
      "source": [
        "# Data Processing"
      ]
    },
    {
      "cell_type": "markdown",
      "metadata": {
        "id": "bIX3QEisDozy",
        "colab_type": "text"
      },
      "source": [
        "## Import necessary libraries"
      ]
    },
    {
      "cell_type": "code",
      "metadata": {
        "id": "6Gg3PYmygs2X",
        "colab_type": "code",
        "colab": {}
      },
      "source": [
        "from sklearn.model_selection import train_test_split\n",
        "from sklearn.preprocessing import LabelEncoder, MinMaxScaler"
      ],
      "execution_count": 0,
      "outputs": []
    },
    {
      "cell_type": "markdown",
      "metadata": {
        "id": "2gN2LhwLDxMD",
        "colab_type": "text"
      },
      "source": [
        "## Encode User ID(s)\n"
      ]
    },
    {
      "cell_type": "code",
      "metadata": {
        "id": "mls5ZUP_Du2t",
        "colab_type": "code",
        "colab": {}
      },
      "source": [
        "user_enc = LabelEncoder()\n",
        "ratings['user'] = user_enc.fit_transform(ratings['userId'].values)\n",
        "n_users = ratings['user'].nunique() + 10"
      ],
      "execution_count": 0,
      "outputs": []
    },
    {
      "cell_type": "markdown",
      "metadata": {
        "id": "p5_mC8FkD2TF",
        "colab_type": "text"
      },
      "source": [
        "## Encode Movie ID(s)"
      ]
    },
    {
      "cell_type": "code",
      "metadata": {
        "id": "mIDuGgKqD2Da",
        "colab_type": "code",
        "colab": {}
      },
      "source": [
        "movie_enc = LabelEncoder()\n",
        "movie_enc.fit(movies['movieId'])\n",
        "ratings['movie'] = movie_enc.transform(ratings['movieId'].values)\n",
        "n_movies = movies['movieId'].nunique()"
      ],
      "execution_count": 0,
      "outputs": []
    },
    {
      "cell_type": "markdown",
      "metadata": {
        "id": "PU6imzdoD_tu",
        "colab_type": "text"
      },
      "source": [
        "## Encode Genere List"
      ]
    },
    {
      "cell_type": "code",
      "metadata": {
        "id": "ltaHsUESEAKt",
        "colab_type": "code",
        "colab": {
          "base_uri": "https://localhost:8080/",
          "height": 204
        },
        "outputId": "f101a46b-157b-4fa8-e103-c3ff61e5098c"
      },
      "source": [
        "genre_enc = LabelEncoder()\n",
        "genre_enc.fit(list(s))\n",
        "ratings['genres_list'] = ratings['genres_list'].apply(lambda x: genre_enc.transform(x))\n",
        "ratings.head()"
      ],
      "execution_count": 16,
      "outputs": [
        {
          "output_type": "execute_result",
          "data": {
            "text/html": [
              "<div>\n",
              "<style scoped>\n",
              "    .dataframe tbody tr th:only-of-type {\n",
              "        vertical-align: middle;\n",
              "    }\n",
              "\n",
              "    .dataframe tbody tr th {\n",
              "        vertical-align: top;\n",
              "    }\n",
              "\n",
              "    .dataframe thead th {\n",
              "        text-align: right;\n",
              "    }\n",
              "</style>\n",
              "<table border=\"1\" class=\"dataframe\">\n",
              "  <thead>\n",
              "    <tr style=\"text-align: right;\">\n",
              "      <th></th>\n",
              "      <th>userId</th>\n",
              "      <th>movieId</th>\n",
              "      <th>rating</th>\n",
              "      <th>timestamp</th>\n",
              "      <th>genres_list</th>\n",
              "      <th>user</th>\n",
              "      <th>movie</th>\n",
              "    </tr>\n",
              "  </thead>\n",
              "  <tbody>\n",
              "    <tr>\n",
              "      <th>0</th>\n",
              "      <td>1</td>\n",
              "      <td>1</td>\n",
              "      <td>4.0</td>\n",
              "      <td>964982703</td>\n",
              "      <td>[3, 4, 5, 6, 10, 0, 0, 0, 0, 0]</td>\n",
              "      <td>0</td>\n",
              "      <td>0</td>\n",
              "    </tr>\n",
              "    <tr>\n",
              "      <th>1</th>\n",
              "      <td>5</td>\n",
              "      <td>1</td>\n",
              "      <td>4.0</td>\n",
              "      <td>847434962</td>\n",
              "      <td>[3, 4, 5, 6, 10, 0, 0, 0, 0, 0]</td>\n",
              "      <td>4</td>\n",
              "      <td>0</td>\n",
              "    </tr>\n",
              "    <tr>\n",
              "      <th>2</th>\n",
              "      <td>7</td>\n",
              "      <td>1</td>\n",
              "      <td>4.5</td>\n",
              "      <td>1106635946</td>\n",
              "      <td>[3, 4, 5, 6, 10, 0, 0, 0, 0, 0]</td>\n",
              "      <td>6</td>\n",
              "      <td>0</td>\n",
              "    </tr>\n",
              "    <tr>\n",
              "      <th>3</th>\n",
              "      <td>15</td>\n",
              "      <td>1</td>\n",
              "      <td>2.5</td>\n",
              "      <td>1510577970</td>\n",
              "      <td>[3, 4, 5, 6, 10, 0, 0, 0, 0, 0]</td>\n",
              "      <td>14</td>\n",
              "      <td>0</td>\n",
              "    </tr>\n",
              "    <tr>\n",
              "      <th>4</th>\n",
              "      <td>17</td>\n",
              "      <td>1</td>\n",
              "      <td>4.5</td>\n",
              "      <td>1305696483</td>\n",
              "      <td>[3, 4, 5, 6, 10, 0, 0, 0, 0, 0]</td>\n",
              "      <td>16</td>\n",
              "      <td>0</td>\n",
              "    </tr>\n",
              "  </tbody>\n",
              "</table>\n",
              "</div>"
            ],
            "text/plain": [
              "   userId  movieId  rating  ...                      genres_list user  movie\n",
              "0       1        1     4.0  ...  [3, 4, 5, 6, 10, 0, 0, 0, 0, 0]    0      0\n",
              "1       5        1     4.0  ...  [3, 4, 5, 6, 10, 0, 0, 0, 0, 0]    4      0\n",
              "2       7        1     4.5  ...  [3, 4, 5, 6, 10, 0, 0, 0, 0, 0]    6      0\n",
              "3      15        1     2.5  ...  [3, 4, 5, 6, 10, 0, 0, 0, 0, 0]   14      0\n",
              "4      17        1     4.5  ...  [3, 4, 5, 6, 10, 0, 0, 0, 0, 0]   16      0\n",
              "\n",
              "[5 rows x 7 columns]"
            ]
          },
          "metadata": {
            "tags": []
          },
          "execution_count": 16
        }
      ]
    },
    {
      "cell_type": "markdown",
      "metadata": {
        "id": "v9Jl7CF7EGKw",
        "colab_type": "text"
      },
      "source": [
        "## Get Ratings Info"
      ]
    },
    {
      "cell_type": "code",
      "metadata": {
        "id": "U-1SC83dEGBG",
        "colab_type": "code",
        "colab": {
          "base_uri": "https://localhost:8080/",
          "height": 35
        },
        "outputId": "f292c1fc-281c-41a2-c9bb-8914cc905318"
      },
      "source": [
        "ratings['rating'] = ratings['rating'].values.astype(np.float32)\n",
        "min_rating = min(ratings['rating'])\n",
        "max_rating = max(ratings['rating'])\n",
        "\n",
        "n_users, n_movies, n_genres, min_rating, max_rating"
      ],
      "execution_count": 17,
      "outputs": [
        {
          "output_type": "execute_result",
          "data": {
            "text/plain": [
              "(620, 9742, 21, 0.5, 5.0)"
            ]
          },
          "metadata": {
            "tags": []
          },
          "execution_count": 17
        }
      ]
    },
    {
      "cell_type": "markdown",
      "metadata": {
        "id": "cYfYx1SmETaf",
        "colab_type": "text"
      },
      "source": [
        "## Make the data processed for training and test"
      ]
    },
    {
      "cell_type": "code",
      "metadata": {
        "id": "mmxdVJmr4LqF",
        "colab_type": "code",
        "outputId": "a1fe2da8-f9a1-4248-91fb-28395a256a99",
        "colab": {
          "base_uri": "https://localhost:8080/",
          "height": 35
        }
      },
      "source": [
        "X1 = ratings[['user', 'movie']].values\n",
        "X2 = np.array([list(val) for val in ratings['genres_list'].values])\n",
        "X = np.concatenate((X1, X2), axis=1)\n",
        "y = ratings['rating'].values\n",
        "\n",
        "X_train, X_test, y_train, y_test = train_test_split(X, y, test_size=0.1, \n",
        "                                                    random_state=47)\n",
        "X_train.shape, X_test.shape, y_train.shape, y_test.shape"
      ],
      "execution_count": 18,
      "outputs": [
        {
          "output_type": "execute_result",
          "data": {
            "text/plain": [
              "((90752, 12), (10084, 12), (90752,), (10084,))"
            ]
          },
          "metadata": {
            "tags": []
          },
          "execution_count": 18
        }
      ]
    },
    {
      "cell_type": "markdown",
      "metadata": {
        "id": "ssLElzgkEbv4",
        "colab_type": "text"
      },
      "source": [
        "## Make data ready for feeeding into model"
      ]
    },
    {
      "cell_type": "code",
      "metadata": {
        "id": "dk-eDjqj5WGY",
        "colab_type": "code",
        "colab": {}
      },
      "source": [
        "X_train_array = [X_train[:, 0], X_train[:, 1], X_train[:, 2:]]\n",
        "X_test_array = [X_test[:, 0], X_test[:, 1], X_test[:, 2:]]"
      ],
      "execution_count": 0,
      "outputs": []
    },
    {
      "cell_type": "markdown",
      "metadata": {
        "id": "CLvnA9QCExr9",
        "colab_type": "text"
      },
      "source": [
        "## Delete the unused data to free Ram"
      ]
    },
    {
      "cell_type": "code",
      "metadata": {
        "id": "8IXVEOybCGjM",
        "colab_type": "code",
        "outputId": "afc48ba2-af9a-460d-af01-f689f6cfcd7c",
        "colab": {
          "base_uri": "https://localhost:8080/",
          "height": 35
        }
      },
      "source": [
        "del X1, X2, X, y\n",
        "del X_train, X_test\n",
        "del ratings, movies\n",
        "import gc\n",
        "gc.collect()"
      ],
      "execution_count": 20,
      "outputs": [
        {
          "output_type": "execute_result",
          "data": {
            "text/plain": [
              "56"
            ]
          },
          "metadata": {
            "tags": []
          },
          "execution_count": 20
        }
      ]
    },
    {
      "cell_type": "markdown",
      "metadata": {
        "id": "FlDfWhxeE40S",
        "colab_type": "text"
      },
      "source": [
        "# Model Training"
      ]
    },
    {
      "cell_type": "code",
      "metadata": {
        "id": "6je57NnvCXjh",
        "colab_type": "code",
        "colab": {
          "base_uri": "https://localhost:8080/",
          "height": 35
        },
        "outputId": "1d6c2993-13c8-42c2-cbb8-36a86f195061"
      },
      "source": [
        "from keras.models import Model\n",
        "from keras.layers import Input, Reshape, Dot\n",
        "from keras.layers.embeddings import Embedding\n",
        "from keras.optimizers import Adam, RMSprop\n",
        "from keras.regularizers import l2\n",
        "from keras.layers import Concatenate, Dense, Dropout, Lambda, Flatten\n",
        "\n",
        "def Model1(min_rating, max_rating):\n",
        "    user = Input(shape=(1,))\n",
        "    u = Embedding(n_users, 50)(user)\n",
        "    u = Flatten()(u)\n",
        "    \n",
        "    movie = Input(shape=(1,))\n",
        "    m = Embedding(n_movies, 50, name=\"movies\")(movie)\n",
        "    m = Flatten()(m)\n",
        "\n",
        "    genre = Input(shape=(10,))\n",
        "    g = Embedding(n_genres, 10)(genre)\n",
        "    g = Flatten()(g)\n",
        "    \n",
        "    x = Concatenate()([u, m, g])\n",
        "    x = Dropout(0.05)(x)\n",
        "    \n",
        "    x = Dense(128, kernel_initializer='he_normal', activation=\"relu\")(x)\n",
        "\n",
        "    x = Dense(10, kernel_initializer='he_normal', activation=\"relu\")(x)\n",
        "    x = Dropout(0.5)(x)\n",
        "    \n",
        "    x = Dense(1, kernel_initializer='he_normal', activation=\"sigmoid\")(x)\n",
        "\n",
        "    x = Lambda(lambda x: x * (max_rating - min_rating) + min_rating)(x)\n",
        "    \n",
        "    model = Model(inputs=[user, movie, genre], outputs=x)\n",
        "    opt = Adam(lr=0.001)\n",
        "    model.compile(loss='mean_squared_error', optimizer=opt, metrics=['accuracy'])\n",
        "    return model"
      ],
      "execution_count": 21,
      "outputs": [
        {
          "output_type": "stream",
          "text": [
            "Using TensorFlow backend.\n"
          ],
          "name": "stderr"
        }
      ]
    },
    {
      "cell_type": "markdown",
      "metadata": {
        "id": "In63NmyJFHcy",
        "colab_type": "text"
      },
      "source": [
        "## Model Summary and Visualize"
      ]
    },
    {
      "cell_type": "code",
      "metadata": {
        "id": "2RIX_ozgE-ec",
        "colab_type": "code",
        "outputId": "a6faca3c-f58c-4406-854d-843903a2e191",
        "colab": {
          "base_uri": "https://localhost:8080/",
          "height": 1000
        }
      },
      "source": [
        "model = Model1(min_rating, max_rating)\n",
        "model.summary()\n",
        "\n",
        "from keras.utils import plot_model\n",
        "plot_model(model, to_file='multilayer_perceptron_graph.png')"
      ],
      "execution_count": 23,
      "outputs": [
        {
          "output_type": "stream",
          "text": [
            "Model: \"model_2\"\n",
            "__________________________________________________________________________________________________\n",
            "Layer (type)                    Output Shape         Param #     Connected to                     \n",
            "==================================================================================================\n",
            "input_4 (InputLayer)            (None, 1)            0                                            \n",
            "__________________________________________________________________________________________________\n",
            "input_5 (InputLayer)            (None, 1)            0                                            \n",
            "__________________________________________________________________________________________________\n",
            "input_6 (InputLayer)            (None, 10)           0                                            \n",
            "__________________________________________________________________________________________________\n",
            "embedding_3 (Embedding)         (None, 1, 50)        31000       input_4[0][0]                    \n",
            "__________________________________________________________________________________________________\n",
            "movies (Embedding)              (None, 1, 50)        487100      input_5[0][0]                    \n",
            "__________________________________________________________________________________________________\n",
            "embedding_4 (Embedding)         (None, 10, 10)       210         input_6[0][0]                    \n",
            "__________________________________________________________________________________________________\n",
            "flatten_4 (Flatten)             (None, 50)           0           embedding_3[0][0]                \n",
            "__________________________________________________________________________________________________\n",
            "flatten_5 (Flatten)             (None, 50)           0           movies[0][0]                     \n",
            "__________________________________________________________________________________________________\n",
            "flatten_6 (Flatten)             (None, 100)          0           embedding_4[0][0]                \n",
            "__________________________________________________________________________________________________\n",
            "concatenate_2 (Concatenate)     (None, 200)          0           flatten_4[0][0]                  \n",
            "                                                                 flatten_5[0][0]                  \n",
            "                                                                 flatten_6[0][0]                  \n",
            "__________________________________________________________________________________________________\n",
            "dropout_3 (Dropout)             (None, 200)          0           concatenate_2[0][0]              \n",
            "__________________________________________________________________________________________________\n",
            "dense_4 (Dense)                 (None, 128)          25728       dropout_3[0][0]                  \n",
            "__________________________________________________________________________________________________\n",
            "dense_5 (Dense)                 (None, 10)           1290        dense_4[0][0]                    \n",
            "__________________________________________________________________________________________________\n",
            "dropout_4 (Dropout)             (None, 10)           0           dense_5[0][0]                    \n",
            "__________________________________________________________________________________________________\n",
            "dense_6 (Dense)                 (None, 1)            11          dropout_4[0][0]                  \n",
            "__________________________________________________________________________________________________\n",
            "lambda_2 (Lambda)               (None, 1)            0           dense_6[0][0]                    \n",
            "==================================================================================================\n",
            "Total params: 545,339\n",
            "Trainable params: 545,339\n",
            "Non-trainable params: 0\n",
            "__________________________________________________________________________________________________\n"
          ],
          "name": "stdout"
        },
        {
          "output_type": "execute_result",
          "data": {
            "image/png": "[encoded data removed]",
            "text/plain": [
              "<IPython.core.display.Image object>"
            ]
          },
          "metadata": {
            "tags": []
          },
          "execution_count": 23
        }
      ]
    },
    {
      "cell_type": "markdown",
      "metadata": {
        "id": "JD0vfayjFMAG",
        "colab_type": "text"
      },
      "source": [
        "## Callbacks for MODEL"
      ]
    },
    {
      "cell_type": "code",
      "metadata": {
        "id": "nyW1wJRABY53",
        "colab_type": "code",
        "colab": {}
      },
      "source": [
        "from keras.callbacks import EarlyStopping, ModelCheckpoint\n",
        "\n",
        "CHECKPOINT_PATH = './final-1'\n",
        "\n",
        "callbacks = []\n",
        "callbacks.append(EarlyStopping(monitor='val_loss', patience=4))\n",
        "callbacks.append(ModelCheckpoint(CHECKPOINT_PATH,  monitor='val_loss', save_best_only=True, save_weights_only=True))"
      ],
      "execution_count": 0,
      "outputs": []
    },
    {
      "cell_type": "markdown",
      "metadata": {
        "id": "Fxe1NmdXFQ_o",
        "colab_type": "text"
      },
      "source": [
        "## Start Training"
      ]
    },
    {
      "cell_type": "code",
      "metadata": {
        "id": "XlIVWS7YA_PG",
        "colab_type": "code",
        "outputId": "c723753e-3f06-41e5-dab5-e3a98b4bdbcb",
        "colab": {
          "base_uri": "https://localhost:8080/",
          "height": 379
        }
      },
      "source": [
        "history = model.fit(x=X_train_array, y=y_train, batch_size=128, epochs=50,\n",
        "                    verbose=1, validation_data=(X_test_array, y_test),\n",
        "                    callbacks=callbacks)"
      ],
      "execution_count": 25,
      "outputs": [
        {
          "output_type": "stream",
          "text": [
            "/usr/local/lib/python3.6/dist-packages/tensorflow/python/framework/indexed_slices.py:434: UserWarning: Converting sparse IndexedSlices to a dense Tensor of unknown shape. This may consume a large amount of memory.\n",
            "  \"Converting sparse IndexedSlices to a dense Tensor of unknown shape. \"\n"
          ],
          "name": "stderr"
        },
        {
          "output_type": "stream",
          "text": [
            "Train on 90752 samples, validate on 10084 samples\n",
            "Epoch 1/50\n",
            "90752/90752 [==============================] - 4s 47us/step - loss: 0.9377 - accuracy: 0.2771 - val_loss: 0.7559 - val_accuracy: 0.3143\n",
            "Epoch 2/50\n",
            "90752/90752 [==============================] - 4s 41us/step - loss: 0.7661 - accuracy: 0.3088 - val_loss: 0.7332 - val_accuracy: 0.3221\n",
            "Epoch 3/50\n",
            "90752/90752 [==============================] - 4s 41us/step - loss: 0.7117 - accuracy: 0.3272 - val_loss: 0.7291 - val_accuracy: 0.3286\n",
            "Epoch 4/50\n",
            "90752/90752 [==============================] - 4s 41us/step - loss: 0.6729 - accuracy: 0.3390 - val_loss: 0.7249 - val_accuracy: 0.3312\n",
            "Epoch 5/50\n",
            "90752/90752 [==============================] - 4s 41us/step - loss: 0.6371 - accuracy: 0.3471 - val_loss: 0.7418 - val_accuracy: 0.3301\n",
            "Epoch 6/50\n",
            "90752/90752 [==============================] - 4s 41us/step - loss: 0.5967 - accuracy: 0.3593 - val_loss: 0.7469 - val_accuracy: 0.3313\n",
            "Epoch 7/50\n",
            "90752/90752 [==============================] - 4s 41us/step - loss: 0.5588 - accuracy: 0.3659 - val_loss: 0.7616 - val_accuracy: 0.3284\n",
            "Epoch 8/50\n",
            "90752/90752 [==============================] - 4s 42us/step - loss: 0.5248 - accuracy: 0.3758 - val_loss: 0.7747 - val_accuracy: 0.3235\n"
          ],
          "name": "stdout"
        }
      ]
    },
    {
      "cell_type": "markdown",
      "metadata": {
        "id": "7hJLSyDIFURZ",
        "colab_type": "text"
      },
      "source": [
        "## Load the BEST model"
      ]
    },
    {
      "cell_type": "code",
      "metadata": {
        "id": "X-ode2Vr1_Cb",
        "colab_type": "code",
        "colab": {}
      },
      "source": [
        "model.load_weights(CHECKPOINT_PATH)"
      ],
      "execution_count": 0,
      "outputs": []
    },
    {
      "cell_type": "markdown",
      "metadata": {
        "id": "9Pkv12oqFgjY",
        "colab_type": "text"
      },
      "source": [
        "## Evaluate on the Test data"
      ]
    },
    {
      "cell_type": "code",
      "metadata": {
        "id": "OYYmzGws9h-F",
        "colab_type": "code",
        "outputId": "82b100ce-4586-4be3-8384-79016d731e30",
        "colab": {
          "base_uri": "https://localhost:8080/",
          "height": 53
        }
      },
      "source": [
        "model.evaluate(X_test_array, y_test)"
      ],
      "execution_count": 27,
      "outputs": [
        {
          "output_type": "stream",
          "text": [
            "10084/10084 [==============================] - 0s 18us/step\n"
          ],
          "name": "stdout"
        },
        {
          "output_type": "execute_result",
          "data": {
            "text/plain": [
              "[0.7248696093992409, 0.33121776580810547]"
            ]
          },
          "metadata": {
            "tags": []
          },
          "execution_count": 27
        }
      ]
    },
    {
      "cell_type": "markdown",
      "metadata": {
        "id": "5YkceFgFFpUS",
        "colab_type": "text"
      },
      "source": [
        "# Model Prediction"
      ]
    },
    {
      "cell_type": "markdown",
      "metadata": {
        "id": "ko-jprvVFwZD",
        "colab_type": "text"
      },
      "source": [
        "## Make the real data ready for model"
      ]
    },
    {
      "cell_type": "code",
      "metadata": {
        "id": "IUqeXmrKCnhM",
        "colab_type": "code",
        "colab": {}
      },
      "source": [
        "def get_genre(movie_id):\n",
        "  genres = movies_ind_to_genre[movie_id]\n",
        "  genres = make_all_same(genres)\n",
        "  return genre_enc.transform(genres).tolist()\n",
        "\n",
        "def get_same_data_as_model(movies, ratings):\n",
        "  X1 = []\n",
        "  X2 = []\n",
        "  X3 = []\n",
        "  Y = []\n",
        "  TX1 = []\n",
        "  TX2 = []\n",
        "  TX3 = []\n",
        "  for (ind, movie) in enumerate(movies):\n",
        "    user = n_users - 4\n",
        "    enc_movie_id = movie_enc.transform([movie])[0]\n",
        "    genres = get_genre(movie)\n",
        "    X1.append(user)\n",
        "    X2.append(enc_movie_id)\n",
        "    X3.append(genres)\n",
        "    Y.append(ratings[ind])\n",
        "  \n",
        "  for movieId in range(n_movies):\n",
        "    user = n_users - 4\n",
        "    org_movie_id = movie_enc.inverse_transform([movieId])[0]\n",
        "    genres = get_genre(org_movie_id)\n",
        "    TX1.append(user)\n",
        "    TX2.append(enc_movie_id)\n",
        "    TX3.append(genres)\n",
        "\n",
        "  return [X1, X2, X3], Y, [TX1, TX2, TX3]"
      ],
      "execution_count": 0,
      "outputs": []
    },
    {
      "cell_type": "markdown",
      "metadata": {
        "id": "Gh4SKaXZF0pF",
        "colab_type": "text"
      },
      "source": [
        "## Function to get prediction"
      ]
    },
    {
      "cell_type": "code",
      "metadata": {
        "id": "sdO3G0RcENPB",
        "colab_type": "code",
        "colab": {}
      },
      "source": [
        "def get_prediction(Movies, Ratings, top = 10):\n",
        "  NX, NY, TX = get_same_data_as_model(Movies, Ratings)\n",
        "  NX_a = [NX[0], NX[1], NX[2]]\n",
        "  model.fit(NX_a, NY, batch_size=128, epochs=10, verbose=0)\n",
        "  res = model.predict([TX[0], TX[1], TX[2]])\n",
        "  model.load_weights(CHECKPOINT_PATH)\n",
        "\n",
        "  res_movies = [(rating[0], movie_enc.inverse_transform([ind])[0]) for (ind, rating) in enumerate(res)]\n",
        "  res_movies.sort(key=lambda x: x[0], reverse=True)\n",
        "  return res_movies[:top]"
      ],
      "execution_count": 0,
      "outputs": []
    },
    {
      "cell_type": "code",
      "metadata": {
        "id": "kLT_UXZ3EhOX",
        "colab_type": "code",
        "outputId": "65a3bf40-1ad5-4ae3-9fd0-6d385b689cb8",
        "colab": {
          "base_uri": "https://localhost:8080/",
          "height": 377
        }
      },
      "source": [
        "# eat pray love, Eternal Sunshine of the Spotless Mind, the intern, The notebook\n",
        "Movies = [80551, 7361, 140110, 8533]\n",
        "# godfather, taxidriver, raging bull, goodfellas\n",
        "Movies = [858, 111, 1228, 1213, 80551, 7361]\n",
        "Ratings = [5, 5, 5, 5, 1, 1]\n",
        "\n",
        "res = get_prediction(Movies, Ratings, 20)\n",
        "for (rating, movie_id) in res:\n",
        "  print(f\"{movies_ind_to_name[movie_id][0:60].ljust(70)} Genre: {movies_ind_to_genre[movie_id]}\")"
      ],
      "execution_count": 32,
      "outputs": [
        {
          "output_type": "stream",
          "text": [
            "Waltz with Bashir (Vals im Bashir) (2008)                              Genre: Animation|Documentary|Drama|War\n",
            "Night and Fog (Nuit et brouillard) (1955)                              Genre: Crime|Documentary|War\n",
            "Shooting Dogs (a.k.a. Beyond the Gates) (2005)                         Genre: Documentary|Drama|War\n",
            "Johnny Eager (1942)                                                    Genre: Crime|Drama|Film-Noir|Romance\n",
            "Dark Passage (1947)                                                    Genre: Crime|Drama|Film-Noir|Romance|Thriller\n",
            "Grifters, The (1990)                                                   Genre: Crime|Drama|Film-Noir\n",
            "Hoodlum (1997)                                                         Genre: Crime|Drama|Film-Noir\n",
            "This World, Then the Fireworks (1997)                                  Genre: Crime|Drama|Film-Noir\n",
            "Double Indemnity (1944)                                                Genre: Crime|Drama|Film-Noir\n",
            "Blood Simple (1984)                                                    Genre: Crime|Drama|Film-Noir\n",
            "Double Life, A (1947)                                                  Genre: Crime|Drama|Film-Noir\n",
            "I Am a Fugitive from a Chain Gang (1932)                               Genre: Crime|Drama|Film-Noir\n",
            "Suddenly (1954)                                                        Genre: Crime|Drama|Film-Noir\n",
            "White Heat (1949)                                                      Genre: Crime|Drama|Film-Noir\n",
            "Call Northside 777 (1948)                                              Genre: Crime|Drama|Film-Noir\n",
            "Born to Kill (1947)                                                    Genre: Crime|Drama|Film-Noir\n",
            "Limits of Control, The (2009)                                          Genre: Crime|Drama|Film-Noir\n",
            "Bus 174 (Ônibus 174) (2002)                                            Genre: Crime|Documentary\n",
            "American Drug War: The Last White Hope (2007)                          Genre: Crime|Documentary\n",
            "Two Escobars, The (2010)                                               Genre: Crime|Documentary\n"
          ],
          "name": "stdout"
        }
      ]
    },
    {
      "cell_type": "code",
      "metadata": {
        "id": "2M7UNZzmEuYB",
        "colab_type": "code",
        "colab": {}
      },
      "source": [
        ""
      ],
      "execution_count": 0,
      "outputs": []
    },
    {
      "cell_type": "code",
      "metadata": {
        "id": "k5SKniAjNnOf",
        "colab_type": "code",
        "colab": {}
      },
      "source": [
        ""
      ],
      "execution_count": 0,
      "outputs": []
    }
  ]
}