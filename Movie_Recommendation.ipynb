{
  "nbformat": 4,
  "nbformat_minor": 0,
  "metadata": {
    "colab": {
      "name": "Movie Recommendation.ipynb",
      "provenance": [],
      "collapsed_sections": [],
      "machine_shape": "hm",
      "authorship_tag": "ABX9TyPmU1P6zBlbyF0vxJ5d2nfN",
      "include_colab_link": true
    },
    "kernelspec": {
      "name": "python3",
      "display_name": "Python 3"
    },
    "accelerator": "TPU"
  },
  "cells": [
    {
      "cell_type": "markdown",
      "metadata": {
        "id": "view-in-github",
        "colab_type": "text"
      },
      "source": [
        "<a href=\"https://colab.research.google.com/github/dipta007/Movie-Recommendation/blob/multi-label-classification/Movie_Recommendation.ipynb\" target=\"_parent\"><img src=\"https://colab.research.google.com/assets/colab-badge.svg\" alt=\"Open In Colab\"/></a>"
      ]
    },
    {
      "cell_type": "code",
      "metadata": {
        "id": "9d4cawHq7Kmh",
        "colab_type": "code",
        "colab": {
          "base_uri": "https://localhost:8080/",
          "height": 181
        },
        "outputId": "475926eb-e5a9-4121-f2db-fb0933573e45"
      },
      "source": [
        "from google.colab import drive\n",
        "from os.path import join\n",
        "import os\n",
        "\n",
        "ROOT = '/content/drive'     # default for the drive\n",
        "PROJ = 'My Drive/Colab_data/MR1'       # path to your project on Drive\n",
        "drive.mount(ROOT)           # we mount the drive at /content/drive\n",
        "\n",
        "PROJECT_PATH = join(ROOT, PROJ)\n",
        "!mkdir \"{PROJECT_PATH}\"    # in case we haven't created it already   \n",
        "%cd \"{PROJECT_PATH}\"\n",
        "%ls"
      ],
      "execution_count": 1,
      "outputs": [
        {
          "output_type": "stream",
          "text": [
            "Go to this URL in a browser: https://accounts.google.com/o/oauth2/auth?client_id=947318989803-6bn6qk8qdgf4n4g3pfee6491hc0brc4i.apps.googleusercontent.com&redirect_uri=urn%3aietf%3awg%3aoauth%3a2.0%3aoob&response_type=code&scope=email%20https%3a%2f%2fwww.googleapis.com%2fauth%2fdocs.test%20https%3a%2f%2fwww.googleapis.com%2fauth%2fdrive%20https%3a%2f%2fwww.googleapis.com%2fauth%2fdrive.photos.readonly%20https%3a%2f%2fwww.googleapis.com%2fauth%2fpeopleapi.readonly\n",
            "\n",
            "Enter your authorization code:\n",
            "··········\n",
            "Mounted at /content/drive\n",
            "mkdir: cannot create directory ‘/content/drive/My Drive/Colab_data/MR1’: File exists\n",
            "/content/drive/My Drive/Colab_data/MR1\n",
            "\u001b[0m\u001b[01;34mdata\u001b[0m/  multilayer_perceptron_graph.png\n"
          ],
          "name": "stdout"
        }
      ]
    },
    {
      "cell_type": "code",
      "metadata": {
        "id": "a5hlO2lzffdL",
        "colab_type": "code",
        "colab": {
          "base_uri": "https://localhost:8080/",
          "height": 204
        },
        "outputId": "f95a59d3-c4ce-4d78-81f2-1fa38f6364db"
      },
      "source": [
        "%matplotlib inline\n",
        "import numpy as np\n",
        "import pandas as pd\n",
        "\n",
        "DATA_PATH = './data/ml-latest-small'\n",
        "\n",
        "ratings = pd.read_csv(f\"{DATA_PATH}/ratings.csv\")\n",
        "ratings.head()"
      ],
      "execution_count": 2,
      "outputs": [
        {
          "output_type": "execute_result",
          "data": {
            "text/html": [
              "<div>\n",
              "<style scoped>\n",
              "    .dataframe tbody tr th:only-of-type {\n",
              "        vertical-align: middle;\n",
              "    }\n",
              "\n",
              "    .dataframe tbody tr th {\n",
              "        vertical-align: top;\n",
              "    }\n",
              "\n",
              "    .dataframe thead th {\n",
              "        text-align: right;\n",
              "    }\n",
              "</style>\n",
              "<table border=\"1\" class=\"dataframe\">\n",
              "  <thead>\n",
              "    <tr style=\"text-align: right;\">\n",
              "      <th></th>\n",
              "      <th>userId</th>\n",
              "      <th>movieId</th>\n",
              "      <th>rating</th>\n",
              "      <th>timestamp</th>\n",
              "    </tr>\n",
              "  </thead>\n",
              "  <tbody>\n",
              "    <tr>\n",
              "      <th>0</th>\n",
              "      <td>1</td>\n",
              "      <td>1</td>\n",
              "      <td>4.0</td>\n",
              "      <td>964982703</td>\n",
              "    </tr>\n",
              "    <tr>\n",
              "      <th>1</th>\n",
              "      <td>1</td>\n",
              "      <td>3</td>\n",
              "      <td>4.0</td>\n",
              "      <td>964981247</td>\n",
              "    </tr>\n",
              "    <tr>\n",
              "      <th>2</th>\n",
              "      <td>1</td>\n",
              "      <td>6</td>\n",
              "      <td>4.0</td>\n",
              "      <td>964982224</td>\n",
              "    </tr>\n",
              "    <tr>\n",
              "      <th>3</th>\n",
              "      <td>1</td>\n",
              "      <td>47</td>\n",
              "      <td>5.0</td>\n",
              "      <td>964983815</td>\n",
              "    </tr>\n",
              "    <tr>\n",
              "      <th>4</th>\n",
              "      <td>1</td>\n",
              "      <td>50</td>\n",
              "      <td>5.0</td>\n",
              "      <td>964982931</td>\n",
              "    </tr>\n",
              "  </tbody>\n",
              "</table>\n",
              "</div>"
            ],
            "text/plain": [
              "   userId  movieId  rating  timestamp\n",
              "0       1        1     4.0  964982703\n",
              "1       1        3     4.0  964981247\n",
              "2       1        6     4.0  964982224\n",
              "3       1       47     5.0  964983815\n",
              "4       1       50     5.0  964982931"
            ]
          },
          "metadata": {
            "tags": []
          },
          "execution_count": 2
        }
      ]
    },
    {
      "cell_type": "code",
      "metadata": {
        "id": "LHYm6fVVgSiI",
        "colab_type": "code",
        "colab": {
          "base_uri": "https://localhost:8080/",
          "height": 204
        },
        "outputId": "49fab5c1-63cf-4d85-c4db-8f3d0859da69"
      },
      "source": [
        "movies = pd.read_csv(f\"{DATA_PATH}/movies.csv\")\n",
        "movies_ind_to_name = dict(zip(movies.movieId, movies.title))\n",
        "movies_name_to_ind = dict(zip(movies.title, movies.movieId))\n",
        "movies.head()"
      ],
      "execution_count": 3,
      "outputs": [
        {
          "output_type": "execute_result",
          "data": {
            "text/html": [
              "<div>\n",
              "<style scoped>\n",
              "    .dataframe tbody tr th:only-of-type {\n",
              "        vertical-align: middle;\n",
              "    }\n",
              "\n",
              "    .dataframe tbody tr th {\n",
              "        vertical-align: top;\n",
              "    }\n",
              "\n",
              "    .dataframe thead th {\n",
              "        text-align: right;\n",
              "    }\n",
              "</style>\n",
              "<table border=\"1\" class=\"dataframe\">\n",
              "  <thead>\n",
              "    <tr style=\"text-align: right;\">\n",
              "      <th></th>\n",
              "      <th>movieId</th>\n",
              "      <th>title</th>\n",
              "      <th>genres</th>\n",
              "    </tr>\n",
              "  </thead>\n",
              "  <tbody>\n",
              "    <tr>\n",
              "      <th>0</th>\n",
              "      <td>1</td>\n",
              "      <td>Toy Story (1995)</td>\n",
              "      <td>Adventure|Animation|Children|Comedy|Fantasy</td>\n",
              "    </tr>\n",
              "    <tr>\n",
              "      <th>1</th>\n",
              "      <td>2</td>\n",
              "      <td>Jumanji (1995)</td>\n",
              "      <td>Adventure|Children|Fantasy</td>\n",
              "    </tr>\n",
              "    <tr>\n",
              "      <th>2</th>\n",
              "      <td>3</td>\n",
              "      <td>Grumpier Old Men (1995)</td>\n",
              "      <td>Comedy|Romance</td>\n",
              "    </tr>\n",
              "    <tr>\n",
              "      <th>3</th>\n",
              "      <td>4</td>\n",
              "      <td>Waiting to Exhale (1995)</td>\n",
              "      <td>Comedy|Drama|Romance</td>\n",
              "    </tr>\n",
              "    <tr>\n",
              "      <th>4</th>\n",
              "      <td>5</td>\n",
              "      <td>Father of the Bride Part II (1995)</td>\n",
              "      <td>Comedy</td>\n",
              "    </tr>\n",
              "  </tbody>\n",
              "</table>\n",
              "</div>"
            ],
            "text/plain": [
              "   movieId  ...                                       genres\n",
              "0        1  ...  Adventure|Animation|Children|Comedy|Fantasy\n",
              "1        2  ...                   Adventure|Children|Fantasy\n",
              "2        3  ...                               Comedy|Romance\n",
              "3        4  ...                         Comedy|Drama|Romance\n",
              "4        5  ...                                       Comedy\n",
              "\n",
              "[5 rows x 3 columns]"
            ]
          },
          "metadata": {
            "tags": []
          },
          "execution_count": 3
        }
      ]
    },
    {
      "cell_type": "code",
      "metadata": {
        "id": "6Gg3PYmygs2X",
        "colab_type": "code",
        "colab": {
          "base_uri": "https://localhost:8080/",
          "height": 35
        },
        "outputId": "fab6ba21-694f-4dbf-a129-52dc57fcd4c7"
      },
      "source": [
        "from sklearn.model_selection import train_test_split\n",
        "from sklearn.preprocessing import LabelEncoder, MinMaxScaler\n",
        "\n",
        "user_enc = LabelEncoder()\n",
        "ratings['user'] = user_enc.fit_transform(ratings['userId'].values)\n",
        "n_users = ratings['user'].nunique()\n",
        "\n",
        "movie_enc = LabelEncoder()\n",
        "movie_enc.fit(movies['movieId'])\n",
        "ratings['movie'] = movie_enc.transform(ratings['movieId'].values)\n",
        "n_movies = movies['movieId'].nunique()\n",
        "\n",
        "ratings['rating'] = ratings['rating'].values.astype(np.float32)\n",
        "min_rating = min(ratings['rating'])\n",
        "max_rating = max(ratings['rating'])\n",
        "\n",
        "# n_users, n_movies, min_rating, max_rating\n",
        "# del ratings['timestamp']\n",
        "ratings.head()\n",
        "ratings.shape"
      ],
      "execution_count": 4,
      "outputs": [
        {
          "output_type": "execute_result",
          "data": {
            "text/plain": [
              "(100836, 6)"
            ]
          },
          "metadata": {
            "tags": []
          },
          "execution_count": 4
        }
      ]
    },
    {
      "cell_type": "code",
      "metadata": {
        "id": "hUSxVAQtBxuC",
        "colab_type": "code",
        "colab": {
          "base_uri": "https://localhost:8080/",
          "height": 35
        },
        "outputId": "5bfeafd5-ddb6-46e3-8137-8d50bcbbf655"
      },
      "source": [
        "n_users, n_movies"
      ],
      "execution_count": 5,
      "outputs": [
        {
          "output_type": "execute_result",
          "data": {
            "text/plain": [
              "(610, 9742)"
            ]
          },
          "metadata": {
            "tags": []
          },
          "execution_count": 5
        }
      ]
    },
    {
      "cell_type": "code",
      "metadata": {
        "id": "Odwkj1fiX2Vy",
        "colab_type": "code",
        "colab": {
          "base_uri": "https://localhost:8080/",
          "height": 35
        },
        "outputId": "f7e0ede9-0a0a-420f-8ec6-dd9a4501486b"
      },
      "source": [
        "# Delete all the rows with less ratings\n",
        "indexes = ratings[ ratings.rating < 3.5 ].index\n",
        "nratings = ratings.drop(indexes)\n",
        "nratings.shape"
      ],
      "execution_count": 6,
      "outputs": [
        {
          "output_type": "execute_result",
          "data": {
            "text/plain": [
              "(61716, 6)"
            ]
          },
          "metadata": {
            "tags": []
          },
          "execution_count": 6
        }
      ]
    },
    {
      "cell_type": "code",
      "metadata": {
        "id": "mmxdVJmr4LqF",
        "colab_type": "code",
        "colab": {}
      },
      "source": [
        "user_movie = {}\n",
        "for index, row in nratings.iterrows():\n",
        "  now = int(row.user)\n",
        "  if now not in user_movie:\n",
        "    user_movie[now] = []\n",
        "  user_movie[now].append((row.movie, row.rating))\n",
        "\n",
        "MIN_NUMBER_OF_MOVIES = 4"
      ],
      "execution_count": 0,
      "outputs": []
    },
    {
      "cell_type": "code",
      "metadata": {
        "id": "dk-eDjqj5WGY",
        "colab_type": "code",
        "colab": {
          "base_uri": "https://localhost:8080/",
          "height": 35
        },
        "outputId": "db2cd3bf-53b9-42eb-db3b-3c0f8988fcc4"
      },
      "source": [
        "MIN_NUMBER_OF_MOVIES, n_users, n_movies, min_rating, max_rating"
      ],
      "execution_count": 10,
      "outputs": [
        {
          "output_type": "execute_result",
          "data": {
            "text/plain": [
              "(4, 610, 9742, 0.5, 5.0)"
            ]
          },
          "metadata": {
            "tags": []
          },
          "execution_count": 10
        }
      ]
    },
    {
      "cell_type": "code",
      "metadata": {
        "id": "Qe3J9WLL7xwM",
        "colab_type": "code",
        "colab": {}
      },
      "source": [
        "def convert_to_one_hot(movies):\n",
        "  now = [0 for _ in range(n_movies)]\n",
        "  for movie, rating in movies:\n",
        "    now[int(movie)] = 1.0\n",
        "  return now\n",
        "\n",
        "prev_movies = []\n",
        "next_movies = []\n",
        "for user in range(n_users):\n",
        "  if user not in user_movie:\n",
        "    continue\n",
        "  user_movie[user].sort(key=lambda x: x[1])\n",
        "  for i in range(len(user_movie[user]) - MIN_NUMBER_OF_MOVIES - 1):\n",
        "    now_movies = user_movie[user]\n",
        "    \n",
        "    # Previous movies he has saw already\n",
        "    prev = [mov for (mov, rat) in now_movies[i:i+MIN_NUMBER_OF_MOVIES]]\n",
        "    prev_movies.append(prev);\n",
        "\n",
        "    # Next movies he should see\n",
        "    next_movies.append(convert_to_one_hot(now_movies[i+MIN_NUMBER_OF_MOVIES:]));\n"
      ],
      "execution_count": 0,
      "outputs": []
    },
    {
      "cell_type": "code",
      "metadata": {
        "id": "QBNpeNrnCMu8",
        "colab_type": "code",
        "colab": {
          "base_uri": "https://localhost:8080/",
          "height": 35
        },
        "outputId": "efe460c7-60b3-4b3b-cbe0-f67c23509b81"
      },
      "source": [
        "len(prev_movies), len(next_movies)"
      ],
      "execution_count": 14,
      "outputs": [
        {
          "output_type": "execute_result",
          "data": {
            "text/plain": [
              "(58682, 58682)"
            ]
          },
          "metadata": {
            "tags": []
          },
          "execution_count": 14
        }
      ]
    },
    {
      "cell_type": "code",
      "metadata": {
        "id": "N9IeqRI8vAKZ",
        "colab_type": "code",
        "colab": {
          "base_uri": "https://localhost:8080/",
          "height": 35
        },
        "outputId": "0d6e7dd2-09fc-4374-8a40-b4071c2499cc"
      },
      "source": [
        "X = np.array(prev_movies).reshape(len(prev_movies), 4, 1)\n",
        "Y = np.array(next_movies)\n",
        "X.shape, Y.shape"
      ],
      "execution_count": 15,
      "outputs": [
        {
          "output_type": "execute_result",
          "data": {
            "text/plain": [
              "((58682, 4, 1), (58682, 9742))"
            ]
          },
          "metadata": {
            "tags": []
          },
          "execution_count": 15
        }
      ]
    },
    {
      "cell_type": "code",
      "metadata": {
        "id": "EOTjbvjM0arq",
        "colab_type": "code",
        "colab": {}
      },
      "source": [
        "X_train, X_test, y_train, y_test = train_test_split(X, Y, test_size=0.2, random_state=47)"
      ],
      "execution_count": 0,
      "outputs": []
    },
    {
      "cell_type": "code",
      "metadata": {
        "id": "3e_hSEElvWqB",
        "colab_type": "code",
        "colab": {
          "base_uri": "https://localhost:8080/",
          "height": 35
        },
        "outputId": "7c629446-21e8-4ff3-b002-ed8c76298640"
      },
      "source": [
        "X_train.shape, X_test.shape, y_train.shape, y_test.shape"
      ],
      "execution_count": 17,
      "outputs": [
        {
          "output_type": "execute_result",
          "data": {
            "text/plain": [
              "((46945, 4, 1), (11737, 4, 1), (46945, 9742), (11737, 9742))"
            ]
          },
          "metadata": {
            "tags": []
          },
          "execution_count": 17
        }
      ]
    },
    {
      "cell_type": "code",
      "metadata": {
        "id": "6je57NnvCXjh",
        "colab_type": "code",
        "colab": {
          "base_uri": "https://localhost:8080/",
          "height": 35
        },
        "outputId": "aa5dcdcd-9d24-4fb2-a654-ca913aafa5dc"
      },
      "source": [
        "from keras.models import Model\n",
        "from keras.layers import Input, Reshape, Dot\n",
        "from keras.layers.embeddings import Embedding\n",
        "from keras.optimizers import Adam, RMSprop\n",
        "from keras.regularizers import l2\n",
        "from keras.layers import Concatenate, Dense, Dropout, Activation, Lambda, LSTM\n",
        "\n",
        "def Model1(n_users, n_movies):\n",
        "  input1 = Input(shape=(MIN_NUMBER_OF_MOVIES, 1,))\n",
        "  emb = Embedding(50)(input1)\n",
        "  x = LSTM(128)(emb)\n",
        "  x = Dense(1000)(x)\n",
        "  x = Dropout(2)(x)\n",
        "  x = Dense(n_movies)(x)\n",
        "  x = Activation('sigmoid')(x)\n",
        "\n",
        "  model = Model(inputs=input1, outputs=x)\n",
        "  # rms = RMSprop(lr=0.001)\n",
        "  model.compile(loss='binary_crossentropy', optimizer='adam', metrics=['accuracy'])  \n",
        "  # model.compile(loss='mean_squared_error', optimizer=rms, metrics=['accuracy'])\n",
        "  return model"
      ],
      "execution_count": 18,
      "outputs": [
        {
          "output_type": "stream",
          "text": [
            "Using TensorFlow backend.\n"
          ],
          "name": "stderr"
        }
      ]
    },
    {
      "cell_type": "code",
      "metadata": {
        "id": "2RIX_ozgE-ec",
        "colab_type": "code",
        "colab": {
          "base_uri": "https://localhost:8080/",
          "height": 377
        },
        "outputId": "a176b36d-b087-4d76-aa6b-304d9dd9cad4"
      },
      "source": [
        "model = Model1(n_users, n_movies)\n",
        "model.summary()\n",
        "\n",
        "# from keras.utils import plot_model\n",
        "# plot_model(model, to_file='multilayer_perceptron_graph.png')"
      ],
      "execution_count": 19,
      "outputs": [
        {
          "output_type": "stream",
          "text": [
            "Model: \"model_1\"\n",
            "_________________________________________________________________\n",
            "Layer (type)                 Output Shape              Param #   \n",
            "=================================================================\n",
            "input_1 (InputLayer)         (None, 4, 1)              0         \n",
            "_________________________________________________________________\n",
            "lstm_1 (LSTM)                (None, 128)               66560     \n",
            "_________________________________________________________________\n",
            "dense_1 (Dense)              (None, 1000)              129000    \n",
            "_________________________________________________________________\n",
            "dropout_1 (Dropout)          (None, 1000)              0         \n",
            "_________________________________________________________________\n",
            "dense_2 (Dense)              (None, 9742)              9751742   \n",
            "_________________________________________________________________\n",
            "activation_1 (Activation)    (None, 9742)              0         \n",
            "=================================================================\n",
            "Total params: 9,947,302\n",
            "Trainable params: 9,947,302\n",
            "Non-trainable params: 0\n",
            "_________________________________________________________________\n"
          ],
          "name": "stdout"
        }
      ]
    },
    {
      "cell_type": "code",
      "metadata": {
        "id": "fdeKR53oIMBS",
        "colab_type": "code",
        "colab": {
          "base_uri": "https://localhost:8080/",
          "height": 235
        },
        "outputId": "52f19e0c-f826-4d0a-a435-6d5b9b02b26b"
      },
      "source": [
        "history = model.fit(x=X, y=Y, batch_size=64, epochs=5, verbose=1, \n",
        "                    validation_data=(X_test, y_test))"
      ],
      "execution_count": 20,
      "outputs": [
        {
          "output_type": "stream",
          "text": [
            "Train on 58682 samples, validate on 11737 samples\n",
            "Epoch 1/5\n",
            "58682/58682 [==============================] - 51s 874us/step - loss: 0.0703 - accuracy: 0.9822 - val_loss: 0.0663 - val_accuracy: 0.9827\n",
            "Epoch 2/5\n",
            "58682/58682 [==============================] - 51s 868us/step - loss: 0.0656 - accuracy: 0.9829 - val_loss: 0.0661 - val_accuracy: 0.9827\n",
            "Epoch 3/5\n",
            "58682/58682 [==============================] - 51s 872us/step - loss: 0.0654 - accuracy: 0.9829 - val_loss: 0.0657 - val_accuracy: 0.9827\n",
            "Epoch 4/5\n",
            "58682/58682 [==============================] - 51s 867us/step - loss: 0.0656 - accuracy: 0.9829 - val_loss: 0.0662 - val_accuracy: 0.9827\n",
            "Epoch 5/5\n",
            "58682/58682 [==============================] - 51s 864us/step - loss: 0.0653 - accuracy: 0.9829 - val_loss: 0.0657 - val_accuracy: 0.9827\n"
          ],
          "name": "stdout"
        }
      ]
    },
    {
      "cell_type": "code",
      "metadata": {
        "id": "2egXkaB4tOo_",
        "colab_type": "code",
        "colab": {}
      },
      "source": [
        "def get_result(movie_no, n = 10):\n",
        "  nolan = movie_enc.transform([109487, 33794, 33794, 74458])\n",
        "  pred = model.predict(nolan.reshape(1, 4, 1))[0]\n",
        "  res = []\n",
        "  for (ind, pred) in enumerate(pred):\n",
        "      res.append((ind, pred))\n",
        "\n",
        "  res.sort(key=lambda x: x[1], reverse=True)\n",
        "  res = [(movie_enc.inverse_transform([id])[0], pred) for (id, pred) in res]\n",
        "  for (movieId, pred) in res[0:n]:\n",
        "    print(f\"{movies_ind_to_name[movieId]} -> {pred}\")\n",
        "  return None"
      ],
      "execution_count": 0,
      "outputs": []
    },
    {
      "cell_type": "code",
      "metadata": {
        "id": "JwS11I_48jPv",
        "colab_type": "code",
        "colab": {
          "base_uri": "https://localhost:8080/",
          "height": 197
        },
        "outputId": "02c62ace-41f3-4648-f92d-430f4b864982"
      },
      "source": [
        "# godfather, taxidriver, raging bull, goodfellas\n",
        "get_result([858, 111, 1228, 1213], 10)"
      ],
      "execution_count": 26,
      "outputs": [
        {
          "output_type": "stream",
          "text": [
            "Matrix, The (1999) -> 0.5254359245300293\n",
            "Fight Club (1999) -> 0.4772758185863495\n",
            "Shawshank Redemption, The (1994) -> 0.42900142073631287\n",
            "Star Wars: Episode V - The Empire Strikes Back (1980) -> 0.419495552778244\n",
            "Pulp Fiction (1994) -> 0.4086754620075226\n",
            "Forrest Gump (1994) -> 0.36886096000671387\n",
            "Godfather, The (1972) -> 0.3557226061820984\n",
            "Inception (2010) -> 0.35343167185783386\n",
            "Good Will Hunting (1997) -> 0.35331833362579346\n",
            "Silence of the Lambs, The (1991) -> 0.3476870059967041\n"
          ],
          "name": "stdout"
        }
      ]
    },
    {
      "cell_type": "code",
      "metadata": {
        "id": "sBHmee-WIkBV",
        "colab_type": "code",
        "colab": {
          "base_uri": "https://localhost:8080/",
          "height": 197
        },
        "outputId": "097b7035-fbec-4823-f65b-0d393d50e66e"
      },
      "source": [
        "# eat pray love, Eternal Sunshine of the Spotless Mind, the intern, The notebook\n",
        "get_result([80551, 7361, 140110, 8533], 10)"
      ],
      "execution_count": 27,
      "outputs": [
        {
          "output_type": "stream",
          "text": [
            "Matrix, The (1999) -> 0.5254359245300293\n",
            "Fight Club (1999) -> 0.4772758185863495\n",
            "Shawshank Redemption, The (1994) -> 0.42900142073631287\n",
            "Star Wars: Episode V - The Empire Strikes Back (1980) -> 0.419495552778244\n",
            "Pulp Fiction (1994) -> 0.4086754620075226\n",
            "Forrest Gump (1994) -> 0.36886096000671387\n",
            "Godfather, The (1972) -> 0.3557226061820984\n",
            "Inception (2010) -> 0.35343167185783386\n",
            "Good Will Hunting (1997) -> 0.35331833362579346\n",
            "Silence of the Lambs, The (1991) -> 0.3476870059967041\n"
          ],
          "name": "stdout"
        }
      ]
    },
    {
      "cell_type": "code",
      "metadata": {
        "id": "3O9TJVodG-KU",
        "colab_type": "code",
        "colab": {
          "base_uri": "https://localhost:8080/",
          "height": 197
        },
        "outputId": "783edd48-c7a3-4bfc-d42b-617ad1f0a26a"
      },
      "source": [
        "# into the wild, seven years in tibet, cast away, the pursuit of happyness\n",
        "get_result([55247, 1619, 4022, 8131], 10)"
      ],
      "execution_count": 24,
      "outputs": [
        {
          "output_type": "stream",
          "text": [
            "Matrix, The (1999)\n",
            "Fight Club (1999)\n",
            "Shawshank Redemption, The (1994)\n",
            "Star Wars: Episode V - The Empire Strikes Back (1980)\n",
            "Pulp Fiction (1994)\n",
            "Forrest Gump (1994)\n",
            "Godfather, The (1972)\n",
            "Inception (2010)\n",
            "Good Will Hunting (1997)\n",
            "Silence of the Lambs, The (1991)\n"
          ],
          "name": "stdout"
        }
      ]
    },
    {
      "cell_type": "code",
      "metadata": {
        "id": "85u0V0q26Q-q",
        "colab_type": "code",
        "colab": {}
      },
      "source": [
        "for thresh in [0.4, 0.3]:\n",
        "  res = get_result(pred[0], thresh)\n",
        "  print(len(res))\n",
        "  print(res)"
      ],
      "execution_count": 0,
      "outputs": []
    },
    {
      "cell_type": "code",
      "metadata": {
        "id": "V0sOmsBQIjvg",
        "colab_type": "code",
        "colab": {}
      },
      "source": [
        "movie_enc.inverse_transform([7355, 8045, 8457, 8528, 8618, 8663, 8668, 8882])"
      ],
      "execution_count": 0,
      "outputs": []
    },
    {
      "cell_type": "code",
      "metadata": {
        "id": "cgJCdkTn6g9Y",
        "colab_type": "code",
        "colab": {}
      },
      "source": [
        ""
      ],
      "execution_count": 0,
      "outputs": []
    }
  ]
}