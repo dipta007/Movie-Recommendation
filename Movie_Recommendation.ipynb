{
  "nbformat": 4,
  "nbformat_minor": 0,
  "metadata": {
    "colab": {
      "name": "Movie Recommendation.ipynb",
      "provenance": [],
      "collapsed_sections": [],
      "machine_shape": "hm",
      "authorship_tag": "ABX9TyPiUkRIJCtKpmFqFJapcXzz",
      "include_colab_link": true
    },
    "kernelspec": {
      "name": "python3",
      "display_name": "Python 3"
    },
    "accelerator": "TPU"
  },
  "cells": [
    {
      "cell_type": "markdown",
      "metadata": {
        "id": "view-in-github",
        "colab_type": "text"
      },
      "source": [
        "<a href=\"https://colab.research.google.com/github/dipta007/Movie-Recommendation/blob/single-label-classification/Movie_Recommendation.ipynb\" target=\"_parent\"><img src=\"https://colab.research.google.com/assets/colab-badge.svg\" alt=\"Open In Colab\"/></a>"
      ]
    },
    {
      "cell_type": "code",
      "metadata": {
        "id": "9d4cawHq7Kmh",
        "colab_type": "code",
        "colab": {
          "base_uri": "https://localhost:8080/",
          "height": 181
        },
        "outputId": "e991fe60-dc1e-4eb2-d32e-e7c4cd2927d1"
      },
      "source": [
        "from google.colab import drive\n",
        "from os.path import join\n",
        "import os\n",
        "\n",
        "ROOT = '/content/drive'     # default for the drive\n",
        "PROJ = 'My Drive/Colab_data/MR1'       # path to your project on Drive\n",
        "drive.mount(ROOT)           # we mount the drive at /content/drive\n",
        "\n",
        "PROJECT_PATH = join(ROOT, PROJ)\n",
        "!mkdir \"{PROJECT_PATH}\"    # in case we haven't created it already   \n",
        "%cd \"{PROJECT_PATH}\"\n",
        "%ls"
      ],
      "execution_count": 2,
      "outputs": [
        {
          "output_type": "stream",
          "text": [
            "Go to this URL in a browser: https://accounts.google.com/o/oauth2/auth?client_id=947318989803-6bn6qk8qdgf4n4g3pfee6491hc0brc4i.apps.googleusercontent.com&redirect_uri=urn%3aietf%3awg%3aoauth%3a2.0%3aoob&response_type=code&scope=email%20https%3a%2f%2fwww.googleapis.com%2fauth%2fdocs.test%20https%3a%2f%2fwww.googleapis.com%2fauth%2fdrive%20https%3a%2f%2fwww.googleapis.com%2fauth%2fdrive.photos.readonly%20https%3a%2f%2fwww.googleapis.com%2fauth%2fpeopleapi.readonly\n",
            "\n",
            "Enter your authorization code:\n",
            "··········\n",
            "Mounted at /content/drive\n",
            "mkdir: cannot create directory ‘/content/drive/My Drive/Colab_data/MR1’: File exists\n",
            "/content/drive/My Drive/Colab_data/MR1\n",
            "\u001b[0m\u001b[01;34mdata\u001b[0m/  multilayer_perceptron_graph.png\n"
          ],
          "name": "stdout"
        }
      ]
    },
    {
      "cell_type": "code",
      "metadata": {
        "id": "a5hlO2lzffdL",
        "colab_type": "code",
        "colab": {
          "base_uri": "https://localhost:8080/",
          "height": 204
        },
        "outputId": "51939e86-a1ba-48ed-f6c8-b8758b4b5e0a"
      },
      "source": [
        "%matplotlib inline\n",
        "import numpy as np\n",
        "import pandas as pd\n",
        "\n",
        "DATA_PATH = './data/ml-latest-small'\n",
        "\n",
        "ratings = pd.read_csv(f\"{DATA_PATH}/ratings.csv\")\n",
        "ratings.head()"
      ],
      "execution_count": 3,
      "outputs": [
        {
          "output_type": "execute_result",
          "data": {
            "text/html": [
              "<div>\n",
              "<style scoped>\n",
              "    .dataframe tbody tr th:only-of-type {\n",
              "        vertical-align: middle;\n",
              "    }\n",
              "\n",
              "    .dataframe tbody tr th {\n",
              "        vertical-align: top;\n",
              "    }\n",
              "\n",
              "    .dataframe thead th {\n",
              "        text-align: right;\n",
              "    }\n",
              "</style>\n",
              "<table border=\"1\" class=\"dataframe\">\n",
              "  <thead>\n",
              "    <tr style=\"text-align: right;\">\n",
              "      <th></th>\n",
              "      <th>userId</th>\n",
              "      <th>movieId</th>\n",
              "      <th>rating</th>\n",
              "      <th>timestamp</th>\n",
              "    </tr>\n",
              "  </thead>\n",
              "  <tbody>\n",
              "    <tr>\n",
              "      <th>0</th>\n",
              "      <td>1</td>\n",
              "      <td>1</td>\n",
              "      <td>4.0</td>\n",
              "      <td>964982703</td>\n",
              "    </tr>\n",
              "    <tr>\n",
              "      <th>1</th>\n",
              "      <td>1</td>\n",
              "      <td>3</td>\n",
              "      <td>4.0</td>\n",
              "      <td>964981247</td>\n",
              "    </tr>\n",
              "    <tr>\n",
              "      <th>2</th>\n",
              "      <td>1</td>\n",
              "      <td>6</td>\n",
              "      <td>4.0</td>\n",
              "      <td>964982224</td>\n",
              "    </tr>\n",
              "    <tr>\n",
              "      <th>3</th>\n",
              "      <td>1</td>\n",
              "      <td>47</td>\n",
              "      <td>5.0</td>\n",
              "      <td>964983815</td>\n",
              "    </tr>\n",
              "    <tr>\n",
              "      <th>4</th>\n",
              "      <td>1</td>\n",
              "      <td>50</td>\n",
              "      <td>5.0</td>\n",
              "      <td>964982931</td>\n",
              "    </tr>\n",
              "  </tbody>\n",
              "</table>\n",
              "</div>"
            ],
            "text/plain": [
              "   userId  movieId  rating  timestamp\n",
              "0       1        1     4.0  964982703\n",
              "1       1        3     4.0  964981247\n",
              "2       1        6     4.0  964982224\n",
              "3       1       47     5.0  964983815\n",
              "4       1       50     5.0  964982931"
            ]
          },
          "metadata": {
            "tags": []
          },
          "execution_count": 3
        }
      ]
    },
    {
      "cell_type": "code",
      "metadata": {
        "id": "LHYm6fVVgSiI",
        "colab_type": "code",
        "colab": {
          "base_uri": "https://localhost:8080/",
          "height": 204
        },
        "outputId": "b6345fae-bf3e-4997-e4c7-74f3f65f9f3b"
      },
      "source": [
        "movies = pd.read_csv(f\"{DATA_PATH}/movies.csv\")\n",
        "movies.head()"
      ],
      "execution_count": 4,
      "outputs": [
        {
          "output_type": "execute_result",
          "data": {
            "text/html": [
              "<div>\n",
              "<style scoped>\n",
              "    .dataframe tbody tr th:only-of-type {\n",
              "        vertical-align: middle;\n",
              "    }\n",
              "\n",
              "    .dataframe tbody tr th {\n",
              "        vertical-align: top;\n",
              "    }\n",
              "\n",
              "    .dataframe thead th {\n",
              "        text-align: right;\n",
              "    }\n",
              "</style>\n",
              "<table border=\"1\" class=\"dataframe\">\n",
              "  <thead>\n",
              "    <tr style=\"text-align: right;\">\n",
              "      <th></th>\n",
              "      <th>movieId</th>\n",
              "      <th>title</th>\n",
              "      <th>genres</th>\n",
              "    </tr>\n",
              "  </thead>\n",
              "  <tbody>\n",
              "    <tr>\n",
              "      <th>0</th>\n",
              "      <td>1</td>\n",
              "      <td>Toy Story (1995)</td>\n",
              "      <td>Adventure|Animation|Children|Comedy|Fantasy</td>\n",
              "    </tr>\n",
              "    <tr>\n",
              "      <th>1</th>\n",
              "      <td>2</td>\n",
              "      <td>Jumanji (1995)</td>\n",
              "      <td>Adventure|Children|Fantasy</td>\n",
              "    </tr>\n",
              "    <tr>\n",
              "      <th>2</th>\n",
              "      <td>3</td>\n",
              "      <td>Grumpier Old Men (1995)</td>\n",
              "      <td>Comedy|Romance</td>\n",
              "    </tr>\n",
              "    <tr>\n",
              "      <th>3</th>\n",
              "      <td>4</td>\n",
              "      <td>Waiting to Exhale (1995)</td>\n",
              "      <td>Comedy|Drama|Romance</td>\n",
              "    </tr>\n",
              "    <tr>\n",
              "      <th>4</th>\n",
              "      <td>5</td>\n",
              "      <td>Father of the Bride Part II (1995)</td>\n",
              "      <td>Comedy</td>\n",
              "    </tr>\n",
              "  </tbody>\n",
              "</table>\n",
              "</div>"
            ],
            "text/plain": [
              "   movieId  ...                                       genres\n",
              "0        1  ...  Adventure|Animation|Children|Comedy|Fantasy\n",
              "1        2  ...                   Adventure|Children|Fantasy\n",
              "2        3  ...                               Comedy|Romance\n",
              "3        4  ...                         Comedy|Drama|Romance\n",
              "4        5  ...                                       Comedy\n",
              "\n",
              "[5 rows x 3 columns]"
            ]
          },
          "metadata": {
            "tags": []
          },
          "execution_count": 4
        }
      ]
    },
    {
      "cell_type": "code",
      "metadata": {
        "id": "6Gg3PYmygs2X",
        "colab_type": "code",
        "colab": {
          "base_uri": "https://localhost:8080/",
          "height": 35
        },
        "outputId": "822befa7-aeb1-48d6-86af-ae437dbb631c"
      },
      "source": [
        "from sklearn.model_selection import train_test_split\n",
        "from sklearn.preprocessing import LabelEncoder, MinMaxScaler\n",
        "\n",
        "user_enc = LabelEncoder()\n",
        "ratings['user'] = user_enc.fit_transform(ratings['userId'].values)\n",
        "n_users = ratings['user'].nunique()\n",
        "\n",
        "movie_enc = LabelEncoder()\n",
        "ratings['movie'] = movie_enc.fit_transform(ratings['movieId'].values)\n",
        "n_movies = ratings['movie'].nunique()\n",
        "\n",
        "ratings['rating'] = ratings['rating'].values.astype(np.float32)\n",
        "min_rating = min(ratings['rating'])\n",
        "max_rating = max(ratings['rating'])\n",
        "\n",
        "# n_users, n_movies, min_rating, max_rating\n",
        "# del ratings['timestamp']\n",
        "ratings.head()\n",
        "ratings.shape"
      ],
      "execution_count": 5,
      "outputs": [
        {
          "output_type": "execute_result",
          "data": {
            "text/plain": [
              "(100836, 6)"
            ]
          },
          "metadata": {
            "tags": []
          },
          "execution_count": 5
        }
      ]
    },
    {
      "cell_type": "code",
      "metadata": {
        "id": "Odwkj1fiX2Vy",
        "colab_type": "code",
        "colab": {
          "base_uri": "https://localhost:8080/",
          "height": 35
        },
        "outputId": "a4dbe95d-2764-4f1e-e020-4f07d62664a0"
      },
      "source": [
        "# Delete all the rows with less ratings\n",
        "indexes = ratings[ ratings.rating < 3.5 ].index\n",
        "nratings = ratings.drop(indexes)\n",
        "nratings.shape"
      ],
      "execution_count": 7,
      "outputs": [
        {
          "output_type": "execute_result",
          "data": {
            "text/plain": [
              "(61716, 6)"
            ]
          },
          "metadata": {
            "tags": []
          },
          "execution_count": 7
        }
      ]
    },
    {
      "cell_type": "code",
      "metadata": {
        "id": "mmxdVJmr4LqF",
        "colab_type": "code",
        "colab": {}
      },
      "source": [
        "user_movie_count = [0 for _ in range(n_users)]\n",
        "user_movie = {}\n",
        "for index, row in nratings.iterrows():\n",
        "  now = int(row.user)\n",
        "  user_movie_count[now] += 1\n",
        "  if now not in user_movie:\n",
        "    user_movie[now] = []\n",
        "  user_movie[now].append(row.movie)\n",
        "\n",
        "MIN_NUMBER_OF_MOVIES = 4"
      ],
      "execution_count": 0,
      "outputs": []
    },
    {
      "cell_type": "code",
      "metadata": {
        "id": "dk-eDjqj5WGY",
        "colab_type": "code",
        "colab": {
          "base_uri": "https://localhost:8080/",
          "height": 35
        },
        "outputId": "7292ad7c-e2a2-40ac-e322-233711a10721"
      },
      "source": [
        "MIN_NUMBER_OF_MOVIES, n_users, n_movies, min_rating, max_rating"
      ],
      "execution_count": 12,
      "outputs": [
        {
          "output_type": "execute_result",
          "data": {
            "text/plain": [
              "(4, 610, 9724, 0.5, 5.0)"
            ]
          },
          "metadata": {
            "tags": []
          },
          "execution_count": 12
        }
      ]
    },
    {
      "cell_type": "code",
      "metadata": {
        "id": "Qe3J9WLL7xwM",
        "colab_type": "code",
        "colab": {}
      },
      "source": [
        "def convert_to_one_hot(movie):\n",
        "  now = [0 for _ in range(n_movies)]\n",
        "  now[int(movie)] = 1.0\n",
        "  return now\n",
        "\n",
        "prev_movies = []\n",
        "next_movies = []\n",
        "for user in range(n_users):\n",
        "  if user not in user_movie:\n",
        "    continue\n",
        "  for i in range(len(user_movie[user]) - MIN_NUMBER_OF_MOVIES):\n",
        "    now_movies = user_movie[user]\n",
        "    \n",
        "    # Previous movies he has saw already\n",
        "    prev_movies.append(now_movies[i:i+MIN_NUMBER_OF_MOVIES]);\n",
        "\n",
        "    # Next movies he should see\n",
        "    next_movies.append(convert_to_one_hot(now_movies[i+MIN_NUMBER_OF_MOVIES]));\n"
      ],
      "execution_count": 0,
      "outputs": []
    },
    {
      "cell_type": "code",
      "metadata": {
        "id": "QBNpeNrnCMu8",
        "colab_type": "code",
        "colab": {
          "base_uri": "https://localhost:8080/",
          "height": 35
        },
        "outputId": "723072f5-7e6e-460e-cf03-333d91579dd3"
      },
      "source": [
        "len(prev_movies), len(next_movies)"
      ],
      "execution_count": 18,
      "outputs": [
        {
          "output_type": "execute_result",
          "data": {
            "text/plain": [
              "(59286, 59286)"
            ]
          },
          "metadata": {
            "tags": []
          },
          "execution_count": 18
        }
      ]
    },
    {
      "cell_type": "code",
      "metadata": {
        "id": "hWTHWHbBmFw7",
        "colab_type": "code",
        "colab": {
          "base_uri": "https://localhost:8080/",
          "height": 35
        },
        "outputId": "982d75f5-ebfc-4876-9254-214f09578307"
      },
      "source": [
        "prev_movies[0], len(next_movies[0])"
      ],
      "execution_count": 19,
      "outputs": [
        {
          "output_type": "execute_result",
          "data": {
            "text/plain": [
              "([0.0, 2.0, 5.0, 43.0], 9724)"
            ]
          },
          "metadata": {
            "tags": []
          },
          "execution_count": 19
        }
      ]
    },
    {
      "cell_type": "code",
      "metadata": {
        "id": "N9IeqRI8vAKZ",
        "colab_type": "code",
        "colab": {}
      },
      "source": [
        "X = np.array(prev_movies).reshape(len(prev_movies), 4, 1)\n",
        "Y = np.array(next_movies)\n",
        "X.shape, Y.shape"
      ],
      "execution_count": 0,
      "outputs": []
    },
    {
      "cell_type": "code",
      "metadata": {
        "id": "EOTjbvjM0arq",
        "colab_type": "code",
        "colab": {}
      },
      "source": [
        "X_train, X_test, y_train, y_test = train_test_split(X, Y, test_size=0.2, random_state=47)"
      ],
      "execution_count": 0,
      "outputs": []
    },
    {
      "cell_type": "code",
      "metadata": {
        "id": "3e_hSEElvWqB",
        "colab_type": "code",
        "colab": {
          "base_uri": "https://localhost:8080/",
          "height": 35
        },
        "outputId": "abb52a2d-6738-4bd1-e6e6-f6703f0f4dad"
      },
      "source": [
        "X_train.shape, X_test.shape, y_train.shape, y_test.shape"
      ],
      "execution_count": 23,
      "outputs": [
        {
          "output_type": "execute_result",
          "data": {
            "text/plain": [
              "((47428, 4, 1), (11858, 4, 1), (47428, 9724), (11858, 9724))"
            ]
          },
          "metadata": {
            "tags": []
          },
          "execution_count": 23
        }
      ]
    },
    {
      "cell_type": "code",
      "metadata": {
        "id": "6je57NnvCXjh",
        "colab_type": "code",
        "colab": {}
      },
      "source": [
        "from keras.models import Model\n",
        "from keras.layers import Input, Reshape, Dot\n",
        "from keras.layers.embeddings import Embedding\n",
        "from keras.optimizers import Adam, RMSprop\n",
        "from keras.regularizers import l2\n",
        "from keras.layers import Concatenate, Dense, Dropout, Activation, Lambda, LSTM\n",
        "\n",
        "def Model1(n_users, n_movies):\n",
        "  input1 = Input(shape=(MIN_NUMBER_OF_MOVIES, 1,))\n",
        "  x = LSTM(128)(input1)\n",
        "  x = Dense(1000)(x)\n",
        "  x = Dense(n_movies)(x)\n",
        "  x = Activation('softmax')(x)\n",
        "\n",
        "  model = Model(inputs=input1, outputs=x)\n",
        "  # rms = RMSprop(lr=0.001)\n",
        "  model.compile(loss='categorical_crossentropy', optimizer='adam', metrics=['accuracy'])  \n",
        "  # model.compile(loss='mean_squared_error', optimizer=rms, metrics=['accuracy'])\n",
        "  return model"
      ],
      "execution_count": 0,
      "outputs": []
    },
    {
      "cell_type": "code",
      "metadata": {
        "id": "2RIX_ozgE-ec",
        "colab_type": "code",
        "colab": {
          "base_uri": "https://localhost:8080/",
          "height": 790
        },
        "outputId": "f572c263-0b8a-4a2f-dafb-a02e4e6c8545"
      },
      "source": [
        "model = Model1(n_users, n_movies)\n",
        "model.summary()\n",
        "\n",
        "# from keras.utils import plot_model\n",
        "# plot_model(model, to_file='multilayer_perceptron_graph.png')"
      ],
      "execution_count": 32,
      "outputs": [
        {
          "output_type": "stream",
          "text": [
            "Model: \"model_2\"\n",
            "_________________________________________________________________\n",
            "Layer (type)                 Output Shape              Param #   \n",
            "=================================================================\n",
            "input_2 (InputLayer)         (None, 4, 1)              0         \n",
            "_________________________________________________________________\n",
            "lstm_2 (LSTM)                (None, 128)               66560     \n",
            "_________________________________________________________________\n",
            "dense_2 (Dense)              (None, 1000)              129000    \n",
            "_________________________________________________________________\n",
            "dense_3 (Dense)              (None, 9724)              9733724   \n",
            "_________________________________________________________________\n",
            "activation_2 (Activation)    (None, 9724)              0         \n",
            "=================================================================\n",
            "Total params: 9,929,284\n",
            "Trainable params: 9,929,284\n",
            "Non-trainable params: 0\n",
            "_________________________________________________________________\n"
          ],
          "name": "stdout"
        },
        {
          "output_type": "execute_result",
          "data": {
            "image/png": "[encoded data removed]",
            "text/plain": [
              "<IPython.core.display.Image object>"
            ]
          },
          "metadata": {
            "tags": []
          },
          "execution_count": 32
        }
      ]
    },
    {
      "cell_type": "code",
      "metadata": {
        "id": "fdeKR53oIMBS",
        "colab_type": "code",
        "colab": {
          "base_uri": "https://localhost:8080/",
          "height": 235
        },
        "outputId": "7c0bd8a4-80cc-44a5-c755-6eeae66142b8"
      },
      "source": [
        "history = model.fit(x=X, y=Y, batch_size=64, epochs=5, verbose=1, \n",
        "                    validation_data=(X_test, y_test))"
      ],
      "execution_count": 33,
      "outputs": [
        {
          "output_type": "stream",
          "text": [
            "Train on 59286 samples, validate on 11858 samples\n",
            "Epoch 1/5\n",
            "59286/59286 [==============================] - 50s 851us/step - loss: 7.2372 - accuracy: 0.0179 - val_loss: 6.4943 - val_accuracy: 0.0262\n",
            "Epoch 2/5\n",
            "59286/59286 [==============================] - 48s 815us/step - loss: 6.3729 - accuracy: 0.0308 - val_loss: 6.0445 - val_accuracy: 0.0255\n",
            "Epoch 3/5\n",
            "59286/59286 [==============================] - 49s 822us/step - loss: 6.0675 - accuracy: 0.0371 - val_loss: 5.7949 - val_accuracy: 0.0406\n",
            "Epoch 4/5\n",
            "59286/59286 [==============================] - 49s 822us/step - loss: 5.8862 - accuracy: 0.0408 - val_loss: 5.7361 - val_accuracy: 0.0374\n",
            "Epoch 5/5\n",
            "59286/59286 [==============================] - 49s 820us/step - loss: 5.7673 - accuracy: 0.0443 - val_loss: 5.5882 - val_accuracy: 0.0451\n"
          ],
          "name": "stdout"
        }
      ]
    },
    {
      "cell_type": "code",
      "metadata": {
        "id": "2egXkaB4tOo_",
        "colab_type": "code",
        "colab": {}
      },
      "source": [
        ""
      ],
      "execution_count": 0,
      "outputs": []
    },
    {
      "cell_type": "code",
      "metadata": {
        "id": "sBHmee-WIkBV",
        "colab_type": "code",
        "colab": {}
      },
      "source": [
        "nolan = movie_enc.transform([109487, 33794, 33794, 74458])"
      ],
      "execution_count": 0,
      "outputs": []
    },
    {
      "cell_type": "code",
      "metadata": {
        "id": "gQFMoZuHIj2-",
        "colab_type": "code",
        "colab": {
          "base_uri": "https://localhost:8080/",
          "height": 35
        },
        "outputId": "cbdc65d2-5fa1-42d3-e13f-08530b96e1a8"
      },
      "source": [
        "res = model.predict(nolan.reshape(1, 4, 1))\n",
        "np.argmax(res)"
      ],
      "execution_count": 35,
      "outputs": [
        {
          "output_type": "execute_result",
          "data": {
            "text/plain": [
              "6993"
            ]
          },
          "metadata": {
            "tags": []
          },
          "execution_count": 35
        }
      ]
    },
    {
      "cell_type": "code",
      "metadata": {
        "id": "V0sOmsBQIjvg",
        "colab_type": "code",
        "colab": {
          "base_uri": "https://localhost:8080/",
          "height": 35
        },
        "outputId": "7efb019e-f098-4871-928b-65b4d9e39efa"
      },
      "source": [
        "movie_enc.inverse_transform([226])"
      ],
      "execution_count": 36,
      "outputs": [
        {
          "output_type": "execute_result",
          "data": {
            "text/plain": [
              "array([262])"
            ]
          },
          "metadata": {
            "tags": []
          },
          "execution_count": 36
        }
      ]
    },
    {
      "cell_type": "code",
      "metadata": {
        "id": "r1wrgEewIjnX",
        "colab_type": "code",
        "colab": {}
      },
      "source": [
        ""
      ],
      "execution_count": 0,
      "outputs": []
    },
    {
      "cell_type": "code",
      "metadata": {
        "id": "cgJCdkTn6g9Y",
        "colab_type": "code",
        "colab": {}
      },
      "source": [
        ""
      ],
      "execution_count": 0,
      "outputs": []
    },
    {
      "cell_type": "code",
      "metadata": {
        "id": "o79BuThahWpL",
        "colab_type": "code",
        "colab": {}
      },
      "source": [
        "from keras.models import Model\n",
        "from keras.layers import Input, Reshape, Dot\n",
        "from keras.layers.embeddings import Embedding\n",
        "from keras.optimizers import Adam\n",
        "from keras.regularizers import l2\n",
        "from keras.layers import Concatenate, Dense, Dropout, Activation, Lambda\n",
        "\n",
        "def RecommenderV1(n_users, n_movies, n_factors):\n",
        "    user = Input(shape=(1,))\n",
        "    u = Embedding(n_users, n_factors, embeddings_initializer='he_normal', embeddings_regularizer=l2(1e-6))(user)\n",
        "    u = Reshape((n_factors,))(u)\n",
        "    \n",
        "    movie = Input(shape=(1,))\n",
        "    m = Embedding(n_movies, n_factors, embeddings_initializer='he_normal', embeddings_regularizer=l2(1e-6))(movie)\n",
        "    m = Reshape((n_factors,))(m)\n",
        "    \n",
        "    x = Concatenate()([u, m])\n",
        "    x = Dropout(0.2)(x)\n",
        "\n",
        "    x = Dense(100, kernel_initializer='he_normal', activation=\"relu\")(x)\n",
        "    x = Dropout(0.2)(x)\n",
        "\n",
        "    x = Dense(50, kernel_initializer='he_normal', activation=\"relu\")(x)\n",
        "    x = Dropout(0.2)(x)\n",
        "\n",
        "    x = Dense(20, kernel_initializer='he_normal', activation=\"relu\")(x)\n",
        "    x = Dropout(0.2)(x)\n",
        "\n",
        "    x = Dense(10, kernel_initializer='he_normal', activation=\"relu\")(x)\n",
        "    x = Dropout(0.2)(x)\n",
        "    \n",
        "    x = Dense(1, kernel_initializer='he_normal', activation=\"sigmoid\")(x)\n",
        "    x = Lambda(lambda x: x * (max_rating - min_rating) + min_rating)(x)\n",
        "\n",
        "    model = Model(inputs=[user, movie], outputs=x)\n",
        "    adam = Adam(lr=0.001)\n",
        "    model.compile(loss='mean_squared_error', optimizer=adam)\n",
        "    return model"
      ],
      "execution_count": 0,
      "outputs": []
    },
    {
      "cell_type": "code",
      "metadata": {
        "id": "WCJ-iLfbh1kD",
        "colab_type": "code",
        "colab": {
          "base_uri": "https://localhost:8080/",
          "height": 827
        },
        "outputId": "f05dade2-dc54-4414-fcc1-6079cfc231f4"
      },
      "source": [
        "model = RecommenderV1(n_users, n_movies, n_factors)\n",
        "model.summary()"
      ],
      "execution_count": 29,
      "outputs": [
        {
          "output_type": "stream",
          "text": [
            "Model: \"model_4\"\n",
            "__________________________________________________________________________________________________\n",
            "Layer (type)                    Output Shape         Param #     Connected to                     \n",
            "==================================================================================================\n",
            "input_9 (InputLayer)            (None, 1)            0                                            \n",
            "__________________________________________________________________________________________________\n",
            "input_10 (InputLayer)           (None, 1)            0                                            \n",
            "__________________________________________________________________________________________________\n",
            "embedding_9 (Embedding)         (None, 1, 50)        30500       input_9[0][0]                    \n",
            "__________________________________________________________________________________________________\n",
            "embedding_10 (Embedding)        (None, 1, 50)        486200      input_10[0][0]                   \n",
            "__________________________________________________________________________________________________\n",
            "reshape_9 (Reshape)             (None, 50)           0           embedding_9[0][0]                \n",
            "__________________________________________________________________________________________________\n",
            "reshape_10 (Reshape)            (None, 50)           0           embedding_10[0][0]               \n",
            "__________________________________________________________________________________________________\n",
            "concatenate_3 (Concatenate)     (None, 100)          0           reshape_9[0][0]                  \n",
            "                                                                 reshape_10[0][0]                 \n",
            "__________________________________________________________________________________________________\n",
            "dropout_4 (Dropout)             (None, 100)          0           concatenate_3[0][0]              \n",
            "__________________________________________________________________________________________________\n",
            "dense_4 (Dense)                 (None, 100)          10100       dropout_4[0][0]                  \n",
            "__________________________________________________________________________________________________\n",
            "dropout_5 (Dropout)             (None, 100)          0           dense_4[0][0]                    \n",
            "__________________________________________________________________________________________________\n",
            "dense_5 (Dense)                 (None, 50)           5050        dropout_5[0][0]                  \n",
            "__________________________________________________________________________________________________\n",
            "dropout_6 (Dropout)             (None, 50)           0           dense_5[0][0]                    \n",
            "__________________________________________________________________________________________________\n",
            "dense_6 (Dense)                 (None, 20)           1020        dropout_6[0][0]                  \n",
            "__________________________________________________________________________________________________\n",
            "dropout_7 (Dropout)             (None, 20)           0           dense_6[0][0]                    \n",
            "__________________________________________________________________________________________________\n",
            "dense_7 (Dense)                 (None, 10)           210         dropout_7[0][0]                  \n",
            "__________________________________________________________________________________________________\n",
            "dropout_8 (Dropout)             (None, 10)           0           dense_7[0][0]                    \n",
            "__________________________________________________________________________________________________\n",
            "dense_8 (Dense)                 (None, 1)            11          dropout_8[0][0]                  \n",
            "__________________________________________________________________________________________________\n",
            "lambda_2 (Lambda)               (None, 1)            0           dense_8[0][0]                    \n",
            "==================================================================================================\n",
            "Total params: 533,091\n",
            "Trainable params: 533,091\n",
            "Non-trainable params: 0\n",
            "__________________________________________________________________________________________________\n"
          ],
          "name": "stdout"
        }
      ]
    },
    {
      "cell_type": "code",
      "metadata": {
        "id": "WOKdpq75h7CT",
        "colab_type": "code",
        "colab": {
          "base_uri": "https://localhost:8080/",
          "height": 271
        },
        "outputId": "4ec08847-9a5d-442d-b120-70cebe454f7b"
      },
      "source": [
        "history = model.fit(x=X_train_array, y=y_train, batch_size=64, epochs=5, \n",
        "                    verbose=1, validation_data=(X_test_array, y_test))"
      ],
      "execution_count": 30,
      "outputs": [
        {
          "output_type": "stream",
          "text": [
            "/usr/local/lib/python3.6/dist-packages/tensorflow/python/framework/indexed_slices.py:434: UserWarning: Converting sparse IndexedSlices to a dense Tensor of unknown shape. This may consume a large amount of memory.\n",
            "  \"Converting sparse IndexedSlices to a dense Tensor of unknown shape. \"\n"
          ],
          "name": "stderr"
        },
        {
          "output_type": "stream",
          "text": [
            "Train on 90752 samples, validate on 10084 samples\n",
            "Epoch 1/5\n",
            "90752/90752 [==============================] - 12s 134us/step - loss: 0.8969 - val_loss: 0.7520\n",
            "Epoch 2/5\n",
            "90752/90752 [==============================] - 12s 129us/step - loss: 0.7486 - val_loss: 0.7314\n",
            "Epoch 3/5\n",
            "90752/90752 [==============================] - 12s 133us/step - loss: 0.7005 - val_loss: 0.7349\n",
            "Epoch 4/5\n",
            "90752/90752 [==============================] - 12s 129us/step - loss: 0.6697 - val_loss: 0.7289\n",
            "Epoch 5/5\n",
            "90752/90752 [==============================] - 12s 134us/step - loss: 0.6431 - val_loss: 0.7438\n"
          ],
          "name": "stdout"
        }
      ]
    },
    {
      "cell_type": "code",
      "metadata": {
        "id": "oZyGd5fpiEpn",
        "colab_type": "code",
        "colab": {}
      },
      "source": [
        "def "
      ],
      "execution_count": 0,
      "outputs": []
    }
  ]
}